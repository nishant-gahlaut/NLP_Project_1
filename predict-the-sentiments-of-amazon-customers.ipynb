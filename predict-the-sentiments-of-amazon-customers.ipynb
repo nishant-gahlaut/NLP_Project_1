{
 "cells": [
  {
   "cell_type": "code",
   "execution_count": 1,
   "id": "fbc9ada2",
   "metadata": {
    "_cell_guid": "b1076dfc-b9ad-4769-8c92-a6c4dae69d19",
    "_uuid": "8f2839f25d086af736a60e9eeb907d3b93b6e0e5",
    "execution": {
     "iopub.execute_input": "2022-12-16T08:13:11.909803Z",
     "iopub.status.busy": "2022-12-16T08:13:11.909272Z",
     "iopub.status.idle": "2022-12-16T08:13:11.928045Z",
     "shell.execute_reply": "2022-12-16T08:13:11.926768Z"
    },
    "papermill": {
     "duration": 0.04255,
     "end_time": "2022-12-16T08:13:11.930741",
     "exception": false,
     "start_time": "2022-12-16T08:13:11.888191",
     "status": "completed"
    },
    "tags": []
   },
   "outputs": [
    {
     "name": "stdout",
     "output_type": "stream",
     "text": [
      "/kaggle/input/dataset/NLP_Amazon_Data_Preparation_prediction-deploy.ipynb\n",
      "/kaggle/input/dataset/Reviews.csv\n",
      "/kaggle/input/dataset/database.sqlite\n"
     ]
    }
   ],
   "source": [
    "# This Python 3 environment comes with many helpful analytics libraries installed\n",
    "# It is defined by the kaggle/python Docker image: https://github.com/kaggle/docker-python\n",
    "# For example, here's several helpful packages to load\n",
    "\n",
    "import numpy as np # linear algebra\n",
    "import pandas as pd # data processing, CSV file I/O (e.g. pd.read_csv)\n",
    "\n",
    "# Input data files are available in the read-only \"../input/\" directory\n",
    "# For example, running this (by clicking run or pressing Shift+Enter) will list all files under the input directory\n",
    "\n",
    "import os\n",
    "for dirname, _, filenames in os.walk('/kaggle/input'):\n",
    "    for filename in filenames:\n",
    "        print(os.path.join(dirname, filename))\n",
    "\n",
    "# You can write up to 20GB to the current directory (/kaggle/working/) that gets preserved as output when you create a version using \"Save & Run All\" \n",
    "# You can also write temporary files to /kaggle/temp/, but they won't be saved outside of the current session"
   ]
  },
  {
   "cell_type": "code",
   "execution_count": 2,
   "id": "5780aba6",
   "metadata": {
    "execution": {
     "iopub.execute_input": "2022-12-16T08:13:11.967664Z",
     "iopub.status.busy": "2022-12-16T08:13:11.966820Z",
     "iopub.status.idle": "2022-12-16T08:13:19.967370Z",
     "shell.execute_reply": "2022-12-16T08:13:19.966067Z"
    },
    "papermill": {
     "duration": 8.021943,
     "end_time": "2022-12-16T08:13:19.970090",
     "exception": false,
     "start_time": "2022-12-16T08:13:11.948147",
     "status": "completed"
    },
    "tags": []
   },
   "outputs": [],
   "source": [
    "# depend on text what type of score we get is our whole moto\n",
    "\n",
    "df=pd.read_csv(r\"/kaggle/input/dataset/Reviews.csv\")"
   ]
  },
  {
   "cell_type": "code",
   "execution_count": 3,
   "id": "2ed2c7cb",
   "metadata": {
    "execution": {
     "iopub.execute_input": "2022-12-16T08:13:20.005415Z",
     "iopub.status.busy": "2022-12-16T08:13:20.005023Z",
     "iopub.status.idle": "2022-12-16T08:13:20.031240Z",
     "shell.execute_reply": "2022-12-16T08:13:20.030093Z"
    },
    "papermill": {
     "duration": 0.047295,
     "end_time": "2022-12-16T08:13:20.034247",
     "exception": false,
     "start_time": "2022-12-16T08:13:19.986952",
     "status": "completed"
    },
    "tags": []
   },
   "outputs": [
    {
     "data": {
      "text/html": [
       "<div>\n",
       "<style scoped>\n",
       "    .dataframe tbody tr th:only-of-type {\n",
       "        vertical-align: middle;\n",
       "    }\n",
       "\n",
       "    .dataframe tbody tr th {\n",
       "        vertical-align: top;\n",
       "    }\n",
       "\n",
       "    .dataframe thead th {\n",
       "        text-align: right;\n",
       "    }\n",
       "</style>\n",
       "<table border=\"1\" class=\"dataframe\">\n",
       "  <thead>\n",
       "    <tr style=\"text-align: right;\">\n",
       "      <th></th>\n",
       "      <th>Id</th>\n",
       "      <th>ProductId</th>\n",
       "      <th>UserId</th>\n",
       "      <th>ProfileName</th>\n",
       "      <th>HelpfulnessNumerator</th>\n",
       "      <th>HelpfulnessDenominator</th>\n",
       "      <th>Score</th>\n",
       "      <th>Time</th>\n",
       "      <th>Summary</th>\n",
       "      <th>Text</th>\n",
       "    </tr>\n",
       "  </thead>\n",
       "  <tbody>\n",
       "    <tr>\n",
       "      <th>0</th>\n",
       "      <td>1</td>\n",
       "      <td>B001E4KFG0</td>\n",
       "      <td>A3SGXH7AUHU8GW</td>\n",
       "      <td>delmartian</td>\n",
       "      <td>1</td>\n",
       "      <td>1</td>\n",
       "      <td>5</td>\n",
       "      <td>1303862400</td>\n",
       "      <td>Good Quality Dog Food</td>\n",
       "      <td>I have bought several of the Vitality canned d...</td>\n",
       "    </tr>\n",
       "    <tr>\n",
       "      <th>1</th>\n",
       "      <td>2</td>\n",
       "      <td>B00813GRG4</td>\n",
       "      <td>A1D87F6ZCVE5NK</td>\n",
       "      <td>dll pa</td>\n",
       "      <td>0</td>\n",
       "      <td>0</td>\n",
       "      <td>1</td>\n",
       "      <td>1346976000</td>\n",
       "      <td>Not as Advertised</td>\n",
       "      <td>Product arrived labeled as Jumbo Salted Peanut...</td>\n",
       "    </tr>\n",
       "    <tr>\n",
       "      <th>2</th>\n",
       "      <td>3</td>\n",
       "      <td>B000LQOCH0</td>\n",
       "      <td>ABXLMWJIXXAIN</td>\n",
       "      <td>Natalia Corres \"Natalia Corres\"</td>\n",
       "      <td>1</td>\n",
       "      <td>1</td>\n",
       "      <td>4</td>\n",
       "      <td>1219017600</td>\n",
       "      <td>\"Delight\" says it all</td>\n",
       "      <td>This is a confection that has been around a fe...</td>\n",
       "    </tr>\n",
       "    <tr>\n",
       "      <th>3</th>\n",
       "      <td>4</td>\n",
       "      <td>B000UA0QIQ</td>\n",
       "      <td>A395BORC6FGVXV</td>\n",
       "      <td>Karl</td>\n",
       "      <td>3</td>\n",
       "      <td>3</td>\n",
       "      <td>2</td>\n",
       "      <td>1307923200</td>\n",
       "      <td>Cough Medicine</td>\n",
       "      <td>If you are looking for the secret ingredient i...</td>\n",
       "    </tr>\n",
       "    <tr>\n",
       "      <th>4</th>\n",
       "      <td>5</td>\n",
       "      <td>B006K2ZZ7K</td>\n",
       "      <td>A1UQRSCLF8GW1T</td>\n",
       "      <td>Michael D. Bigham \"M. Wassir\"</td>\n",
       "      <td>0</td>\n",
       "      <td>0</td>\n",
       "      <td>5</td>\n",
       "      <td>1350777600</td>\n",
       "      <td>Great taffy</td>\n",
       "      <td>Great taffy at a great price.  There was a wid...</td>\n",
       "    </tr>\n",
       "  </tbody>\n",
       "</table>\n",
       "</div>"
      ],
      "text/plain": [
       "   Id   ProductId          UserId                      ProfileName  \\\n",
       "0   1  B001E4KFG0  A3SGXH7AUHU8GW                       delmartian   \n",
       "1   2  B00813GRG4  A1D87F6ZCVE5NK                           dll pa   \n",
       "2   3  B000LQOCH0   ABXLMWJIXXAIN  Natalia Corres \"Natalia Corres\"   \n",
       "3   4  B000UA0QIQ  A395BORC6FGVXV                             Karl   \n",
       "4   5  B006K2ZZ7K  A1UQRSCLF8GW1T    Michael D. Bigham \"M. Wassir\"   \n",
       "\n",
       "   HelpfulnessNumerator  HelpfulnessDenominator  Score        Time  \\\n",
       "0                     1                       1      5  1303862400   \n",
       "1                     0                       0      1  1346976000   \n",
       "2                     1                       1      4  1219017600   \n",
       "3                     3                       3      2  1307923200   \n",
       "4                     0                       0      5  1350777600   \n",
       "\n",
       "                 Summary                                               Text  \n",
       "0  Good Quality Dog Food  I have bought several of the Vitality canned d...  \n",
       "1      Not as Advertised  Product arrived labeled as Jumbo Salted Peanut...  \n",
       "2  \"Delight\" says it all  This is a confection that has been around a fe...  \n",
       "3         Cough Medicine  If you are looking for the secret ingredient i...  \n",
       "4            Great taffy  Great taffy at a great price.  There was a wid...  "
      ]
     },
     "execution_count": 3,
     "metadata": {},
     "output_type": "execute_result"
    }
   ],
   "source": [
    "df.head()"
   ]
  },
  {
   "cell_type": "code",
   "execution_count": 4,
   "id": "e0977dfd",
   "metadata": {
    "execution": {
     "iopub.execute_input": "2022-12-16T08:13:20.070411Z",
     "iopub.status.busy": "2022-12-16T08:13:20.070023Z",
     "iopub.status.idle": "2022-12-16T08:13:20.077283Z",
     "shell.execute_reply": "2022-12-16T08:13:20.076049Z"
    },
    "papermill": {
     "duration": 0.028112,
     "end_time": "2022-12-16T08:13:20.079635",
     "exception": false,
     "start_time": "2022-12-16T08:13:20.051523",
     "status": "completed"
    },
    "tags": []
   },
   "outputs": [
    {
     "data": {
      "text/plain": [
       "Index(['Id', 'ProductId', 'UserId', 'ProfileName', 'HelpfulnessNumerator',\n",
       "       'HelpfulnessDenominator', 'Score', 'Time', 'Summary', 'Text'],\n",
       "      dtype='object')"
      ]
     },
     "execution_count": 4,
     "metadata": {},
     "output_type": "execute_result"
    }
   ],
   "source": [
    "df.columns"
   ]
  },
  {
   "cell_type": "code",
   "execution_count": 5,
   "id": "e7450797",
   "metadata": {
    "execution": {
     "iopub.execute_input": "2022-12-16T08:13:20.116164Z",
     "iopub.status.busy": "2022-12-16T08:13:20.115747Z",
     "iopub.status.idle": "2022-12-16T08:13:20.134177Z",
     "shell.execute_reply": "2022-12-16T08:13:20.133177Z"
    },
    "papermill": {
     "duration": 0.039691,
     "end_time": "2022-12-16T08:13:20.136800",
     "exception": false,
     "start_time": "2022-12-16T08:13:20.097109",
     "status": "completed"
    },
    "tags": []
   },
   "outputs": [],
   "source": [
    "df['Helpful%']=np.where(df['HelpfulnessDenominator']>0,df['HelpfulnessNumerator']/df['HelpfulnessDenominator'],-1)"
   ]
  },
  {
   "cell_type": "code",
   "execution_count": 6,
   "id": "eb562fa1",
   "metadata": {
    "execution": {
     "iopub.execute_input": "2022-12-16T08:13:20.174238Z",
     "iopub.status.busy": "2022-12-16T08:13:20.173426Z",
     "iopub.status.idle": "2022-12-16T08:13:20.189613Z",
     "shell.execute_reply": "2022-12-16T08:13:20.188436Z"
    },
    "papermill": {
     "duration": 0.037234,
     "end_time": "2022-12-16T08:13:20.192008",
     "exception": false,
     "start_time": "2022-12-16T08:13:20.154774",
     "status": "completed"
    },
    "tags": []
   },
   "outputs": [
    {
     "data": {
      "text/html": [
       "<div>\n",
       "<style scoped>\n",
       "    .dataframe tbody tr th:only-of-type {\n",
       "        vertical-align: middle;\n",
       "    }\n",
       "\n",
       "    .dataframe tbody tr th {\n",
       "        vertical-align: top;\n",
       "    }\n",
       "\n",
       "    .dataframe thead th {\n",
       "        text-align: right;\n",
       "    }\n",
       "</style>\n",
       "<table border=\"1\" class=\"dataframe\">\n",
       "  <thead>\n",
       "    <tr style=\"text-align: right;\">\n",
       "      <th></th>\n",
       "      <th>Id</th>\n",
       "      <th>ProductId</th>\n",
       "      <th>UserId</th>\n",
       "      <th>ProfileName</th>\n",
       "      <th>HelpfulnessNumerator</th>\n",
       "      <th>HelpfulnessDenominator</th>\n",
       "      <th>Score</th>\n",
       "      <th>Time</th>\n",
       "      <th>Summary</th>\n",
       "      <th>Text</th>\n",
       "      <th>Helpful%</th>\n",
       "    </tr>\n",
       "  </thead>\n",
       "  <tbody>\n",
       "    <tr>\n",
       "      <th>0</th>\n",
       "      <td>1</td>\n",
       "      <td>B001E4KFG0</td>\n",
       "      <td>A3SGXH7AUHU8GW</td>\n",
       "      <td>delmartian</td>\n",
       "      <td>1</td>\n",
       "      <td>1</td>\n",
       "      <td>5</td>\n",
       "      <td>1303862400</td>\n",
       "      <td>Good Quality Dog Food</td>\n",
       "      <td>I have bought several of the Vitality canned d...</td>\n",
       "      <td>1.0</td>\n",
       "    </tr>\n",
       "    <tr>\n",
       "      <th>1</th>\n",
       "      <td>2</td>\n",
       "      <td>B00813GRG4</td>\n",
       "      <td>A1D87F6ZCVE5NK</td>\n",
       "      <td>dll pa</td>\n",
       "      <td>0</td>\n",
       "      <td>0</td>\n",
       "      <td>1</td>\n",
       "      <td>1346976000</td>\n",
       "      <td>Not as Advertised</td>\n",
       "      <td>Product arrived labeled as Jumbo Salted Peanut...</td>\n",
       "      <td>-1.0</td>\n",
       "    </tr>\n",
       "    <tr>\n",
       "      <th>2</th>\n",
       "      <td>3</td>\n",
       "      <td>B000LQOCH0</td>\n",
       "      <td>ABXLMWJIXXAIN</td>\n",
       "      <td>Natalia Corres \"Natalia Corres\"</td>\n",
       "      <td>1</td>\n",
       "      <td>1</td>\n",
       "      <td>4</td>\n",
       "      <td>1219017600</td>\n",
       "      <td>\"Delight\" says it all</td>\n",
       "      <td>This is a confection that has been around a fe...</td>\n",
       "      <td>1.0</td>\n",
       "    </tr>\n",
       "    <tr>\n",
       "      <th>3</th>\n",
       "      <td>4</td>\n",
       "      <td>B000UA0QIQ</td>\n",
       "      <td>A395BORC6FGVXV</td>\n",
       "      <td>Karl</td>\n",
       "      <td>3</td>\n",
       "      <td>3</td>\n",
       "      <td>2</td>\n",
       "      <td>1307923200</td>\n",
       "      <td>Cough Medicine</td>\n",
       "      <td>If you are looking for the secret ingredient i...</td>\n",
       "      <td>1.0</td>\n",
       "    </tr>\n",
       "    <tr>\n",
       "      <th>4</th>\n",
       "      <td>5</td>\n",
       "      <td>B006K2ZZ7K</td>\n",
       "      <td>A1UQRSCLF8GW1T</td>\n",
       "      <td>Michael D. Bigham \"M. Wassir\"</td>\n",
       "      <td>0</td>\n",
       "      <td>0</td>\n",
       "      <td>5</td>\n",
       "      <td>1350777600</td>\n",
       "      <td>Great taffy</td>\n",
       "      <td>Great taffy at a great price.  There was a wid...</td>\n",
       "      <td>-1.0</td>\n",
       "    </tr>\n",
       "  </tbody>\n",
       "</table>\n",
       "</div>"
      ],
      "text/plain": [
       "   Id   ProductId          UserId                      ProfileName  \\\n",
       "0   1  B001E4KFG0  A3SGXH7AUHU8GW                       delmartian   \n",
       "1   2  B00813GRG4  A1D87F6ZCVE5NK                           dll pa   \n",
       "2   3  B000LQOCH0   ABXLMWJIXXAIN  Natalia Corres \"Natalia Corres\"   \n",
       "3   4  B000UA0QIQ  A395BORC6FGVXV                             Karl   \n",
       "4   5  B006K2ZZ7K  A1UQRSCLF8GW1T    Michael D. Bigham \"M. Wassir\"   \n",
       "\n",
       "   HelpfulnessNumerator  HelpfulnessDenominator  Score        Time  \\\n",
       "0                     1                       1      5  1303862400   \n",
       "1                     0                       0      1  1346976000   \n",
       "2                     1                       1      4  1219017600   \n",
       "3                     3                       3      2  1307923200   \n",
       "4                     0                       0      5  1350777600   \n",
       "\n",
       "                 Summary                                               Text  \\\n",
       "0  Good Quality Dog Food  I have bought several of the Vitality canned d...   \n",
       "1      Not as Advertised  Product arrived labeled as Jumbo Salted Peanut...   \n",
       "2  \"Delight\" says it all  This is a confection that has been around a fe...   \n",
       "3         Cough Medicine  If you are looking for the secret ingredient i...   \n",
       "4            Great taffy  Great taffy at a great price.  There was a wid...   \n",
       "\n",
       "   Helpful%  \n",
       "0       1.0  \n",
       "1      -1.0  \n",
       "2       1.0  \n",
       "3       1.0  \n",
       "4      -1.0  "
      ]
     },
     "execution_count": 6,
     "metadata": {},
     "output_type": "execute_result"
    }
   ],
   "source": [
    "df.head()"
   ]
  },
  {
   "cell_type": "code",
   "execution_count": 7,
   "id": "ac38600b",
   "metadata": {
    "execution": {
     "iopub.execute_input": "2022-12-16T08:13:20.229453Z",
     "iopub.status.busy": "2022-12-16T08:13:20.229025Z",
     "iopub.status.idle": "2022-12-16T08:13:20.259890Z",
     "shell.execute_reply": "2022-12-16T08:13:20.258714Z"
    },
    "papermill": {
     "duration": 0.052821,
     "end_time": "2022-12-16T08:13:20.262472",
     "exception": false,
     "start_time": "2022-12-16T08:13:20.209651",
     "status": "completed"
    },
    "tags": []
   },
   "outputs": [
    {
     "data": {
      "text/plain": [
       "array([ 1.        , -1.        ,  0.8       ,  0.        ,  0.5       ,\n",
       "        0.66666667,  0.25      ,  0.89473684,  0.83333333,  0.75      ,\n",
       "        0.33333333,  0.3       ,  0.11111111,  0.42857143,  0.875     ,\n",
       "        0.85714286,  0.2       ,  0.26315789,  0.6       ,  0.71428571,\n",
       "        0.53846154,  0.57142857,  0.91489362,  0.86666667,  0.82352941,\n",
       "        0.78571429,  0.74074074,  0.4       ,  0.375     ,  0.28571429,\n",
       "        0.14285714,  0.77777778,  0.125     ,  0.9       ,  0.94117647,\n",
       "        0.92307692,  0.7       ,  0.45454545,  0.88888889,  0.83870968,\n",
       "        0.9047619 ,  0.92857143,  0.90909091,  0.91666667,  0.84615385,\n",
       "        0.10526316,  0.98214286,  0.97826087,  0.7518797 ,  0.3125    ,\n",
       "        0.1       ,  0.18518519,  0.88      ,  0.69230769,  0.625     ,\n",
       "        0.54545455,  0.41666667,  0.45833333,  0.22222222,  0.81818182,\n",
       "        0.8125    ,  0.16666667,  0.93103448,  0.88235294,  0.23529412,\n",
       "        0.63636364,  0.81481481,  0.95652174,  0.64285714,  0.58333333,\n",
       "        0.94444444,  0.921875  ,  0.86574074,  0.96      ,  0.91304348,\n",
       "        0.64705882,  0.95833333,  0.09090909,  0.13333333,  0.52941176,\n",
       "        0.96969697,  0.36363636,  0.07142857,  0.72727273,  0.18181818,\n",
       "        0.96666667,  0.99074074,  0.97297297,  0.80645161,  0.64102564,\n",
       "        0.55555556,  0.4375    ,  0.76923077,  0.28      ,  0.15384615,\n",
       "        0.44444444,  0.5625    ,  0.53333333,  0.47058824,  0.47222222,\n",
       "        0.23076923,  0.25925926,  0.98876404,  0.88372093,  0.19047619,\n",
       "        0.94594595,  0.84313725,  0.96629213,  0.72222222,  0.05882353,\n",
       "        0.27272727,  0.97959184,  0.26666667,  0.30769231,  0.94736842,\n",
       "        0.27777778,  0.6875    ,  0.92      ,  0.90566038,  0.95      ,\n",
       "        0.9375    ,  0.9137931 ,  0.82857143,  0.86363636,  0.85      ,\n",
       "        0.96428571,  0.95238095,  0.08333333,  0.97560976,  0.93333333,\n",
       "        0.46666667,  0.96153846,  0.24      ,  0.92682927,  0.93548387,\n",
       "        0.86956522,  0.06666667,  0.98461538,  0.97      ,  0.97619048,\n",
       "        0.925     ,  0.88461538,  0.61538462,  0.09375   ,  0.79166667,\n",
       "        0.70588235,  0.45      ,  0.93939394,  0.90322581,  0.68      ,\n",
       "        0.95454545,  0.04166667,  0.89655172,  0.88571429,  0.38461538,\n",
       "        0.07692308,  0.12121212,  0.92237443,  0.92156863,  0.36585366,\n",
       "        0.88095238,  0.84      ,  0.61904762,  0.96129032,  0.96385542,\n",
       "        0.90588235,  0.87878788,  0.05555556,  0.80952381,  0.20689655,\n",
       "        0.07407407,  0.35      ,  0.77272727,  0.91428571,  0.04545455,\n",
       "        0.76470588,  0.70833333,  0.73333333,  0.93650794,  0.8671875 ,\n",
       "        0.75949367,  0.65957447,  0.57692308,  0.41176471,  0.40909091,\n",
       "        0.34693878,  0.30263158,  0.16176471,  0.65      ,  0.96296296,\n",
       "        0.96808511,  0.94915254,  0.98290598,  0.9893617 ,  0.95744681,\n",
       "        0.96268657,  0.98305085,  0.61111111,  0.59183673,  0.98913043,\n",
       "        0.98809524,  0.92982456,  0.78947368,  0.75757576,  0.82608696,\n",
       "        0.96491228,  0.84507042,  0.98412698,  0.96551724,  0.87341772,\n",
       "        0.73913043,  0.7037037 ,  0.98888889,  0.7826087 ,  0.17647059,\n",
       "        0.96226415,  0.94339623,  0.97058824,  0.57894737,  0.47368421,\n",
       "        0.5106383 ,  0.97777778,  0.92352941,  0.78378378,  0.97674419,\n",
       "        0.35714286,  0.94805195,  0.94285714,  0.86538462,  0.43478261,\n",
       "        0.99186992,  0.8627451 ,  0.97142857,  0.98484848,  0.73076923,\n",
       "        0.68181818,  0.63333333,  0.64583333,  0.96774194,  0.05263158,\n",
       "        0.36842105,  0.82926829,  0.92045455,  0.34782609,  0.85365854,\n",
       "        0.91803279,  0.97222222,  0.46153846,  0.2173913 ,  0.82051282,\n",
       "        0.29032258,  0.95754717,  0.91176471,  0.04761905,  0.65714286,\n",
       "        0.13636364,  0.77142857,  0.953125  ,  0.92592593,  0.0862069 ,\n",
       "        0.80555556,  0.20512821,  0.29411765,  0.9925187 ,  0.98564593,\n",
       "        0.99253731,  0.80487805,  0.82142857,  0.76      ,  0.21428571,\n",
       "        0.31914894,  0.02702703,  0.20833333,  0.92105263,  0.78125   ,\n",
       "        0.61290323,  0.97435897,  0.07894737,  0.72413793,  0.03125   ,\n",
       "        0.68421053,  0.97979798,  0.38888889,  0.975     ,  0.80769231,\n",
       "        0.06060606,  0.93023256,  0.97260274,  0.90769231,  0.31372549,\n",
       "        0.15789474,  0.32258065,  0.95959596,  0.21052632,  0.84210526,\n",
       "        0.32      ,  0.92631579,  0.03703704,  1.5       ,  0.11428571,\n",
       "        0.88333333,  0.1875    ,  0.96875   ,  0.64      ,  0.30434783,\n",
       "        0.93150685,  0.88709677,  0.75609756,  0.60606061,  0.54166667,\n",
       "        0.52380952,  0.98275862,  0.98630137,  0.76190476,  0.85106383,\n",
       "        0.79069767,  0.8974359 ,  0.93617021,  0.87234043,  0.0625    ,\n",
       "        0.075     ,  0.39393939,  0.74107143,  0.49090909,  0.90243902,\n",
       "        0.56521739,  0.27027027,  0.03846154,  0.31147541,  0.24528302,\n",
       "        0.97727273,  0.60714286,  0.98360656,  0.95918367,  0.94      ,\n",
       "        0.72      ,  0.15      ,  0.12903226,  0.35294118,  0.14084507,\n",
       "        0.13888889,  0.08219178,  0.03636364,  0.13043478,  0.55172414,\n",
       "        0.64516129,  0.98      ,  0.76271186,  0.98333333,  0.95384615,\n",
       "        0.85294118,  0.13513514,  0.32142857,  0.87912088,  0.82758621,\n",
       "        0.72881356,  0.73684211,  0.86111111,  0.81355932,  0.72839506,\n",
       "        0.73809524,  0.74193548,  0.51612903,  0.7109375 ,  0.69565217,\n",
       "        0.02941176,  0.17391304,  0.85185185,  0.06451613,  0.92727273,\n",
       "        0.08695652,  0.03333333,  0.475     ,  0.32352941,  0.22727273,\n",
       "        0.98113208,  0.42307692,  3.        ,  0.90625   ,  0.8404908 ,\n",
       "        0.72093023,  0.98181818,  0.69047619,  0.05660377,  0.93159609,\n",
       "        0.95604396,  0.95348837,  0.98823529,  0.95774648,  0.94520548,\n",
       "        0.62068966,  0.22058824,  0.25827815,  0.86842105,  0.82222222,\n",
       "        0.89041096,  0.78846154,  0.63157895,  0.98717949,  0.93406593,\n",
       "        0.11538462,  0.04      ,  0.86206897,  0.38095238,  0.95555556,\n",
       "        0.97402597,  0.94230769,  0.47619048,  0.99166667,  0.98387097,\n",
       "        0.93589744,  0.89915966,  0.88489209,  0.89285714,  0.8989899 ,\n",
       "        0.84415584,  0.02857143,  0.98496241,  0.96590909,  0.91240876,\n",
       "        0.94545455,  0.90526316,  0.67924528,  0.109375  ,  0.89090909,\n",
       "        0.98795181,  0.02777778,  0.94642857,  0.18918919,  0.67605634,\n",
       "        0.55      ,  0.53030303,  0.45098039,  0.05454545,  0.96363636,\n",
       "        0.06122449,  0.98039216,  0.99443414,  0.98688525,  0.27586207,\n",
       "        0.1025641 ,  0.11764706,  0.05128205,  0.81395349,  0.69387755,\n",
       "        0.98611111,  0.99466192,  0.98951782,  0.98723404,  0.97122302,\n",
       "        0.97183099,  0.75862069,  0.98550725,  0.97368421,  0.56      ,\n",
       "        0.98657718,  0.90196078,  0.77419355,  0.65625   ,  0.87012987,\n",
       "        0.25581395,  0.21153846,  0.71794872,  0.52      ,  0.02222222,\n",
       "        0.15625   ,  0.05      ,  0.10714286,  0.8902439 ,  0.79310345,\n",
       "        0.65384615,  0.94174757,  0.65116279,  0.59459459,  0.58823529,\n",
       "        0.0952381 ,  0.10638298,  0.20430108,  0.89361702,  0.65217391,\n",
       "        0.84090909,  0.92753623,  0.89156627,  0.89333333,  0.890625  ,\n",
       "        0.38709677,  0.60869565,  0.65853659,  0.42105263,  0.88405797,\n",
       "        0.92473118,  0.86486486,  0.02985075,  0.40625   ,  0.97916667,\n",
       "        0.52631579,  0.19230769,  0.98571429,  0.53571429,  0.12765957,\n",
       "        0.97333333,  0.67857143,  0.93506494,  0.88976378,  0.87037037,\n",
       "        0.81081081,  0.12244898,  0.51724138,  0.89502762,  0.51851852,\n",
       "        0.93181818,  0.82692308,  0.73529412,  0.22857143,  0.62962963,\n",
       "        0.31034483,  0.9787234 ,  0.96078431,  0.45714286,  0.98033708,\n",
       "        0.93877551,  0.86904762,  0.98268398,  0.98850575,  0.98148148,\n",
       "        0.56756757,  0.99145299,  0.17948718,  0.71641791,  0.91111111,\n",
       "        0.82653061,  0.98734177,  0.984375  ,  0.58064516,  0.47826087,\n",
       "        0.44      ,  0.39130435,  0.20454545,  0.98351648,  0.95714286,\n",
       "        0.96503497,  0.86263736,  0.12      ,  0.76595745,  0.86440678,\n",
       "        0.89873418,  0.91525424,  0.91071429,  0.88636364,  0.48275862,\n",
       "        0.03571429,  0.98591549,  0.69090909,  0.9516129 ,  0.48780488,\n",
       "        0.13793103,  0.08108108,  0.11904762,  0.80597015,  0.9273743 ,\n",
       "        0.89308176,  0.3960396 ,  0.98245614,  0.99415205,  0.98969072,\n",
       "        0.96721311,  0.64788732,  0.23333333,  0.99196787,  0.87603306,\n",
       "        0.86567164,  0.87096774,  0.83269962,  0.84057971,  0.82978723,\n",
       "        0.78333333,  0.80434783,  0.78787879,  0.95121951,  0.13157895,\n",
       "        0.96923077,  0.08571429,  0.98701299,  0.775     ,  0.90163934,\n",
       "        0.9245283 ,  0.34285714,  0.14814815,  0.83529412,  0.79487179,\n",
       "        0.74666667,  0.73239437,  0.74285714,  0.63855422,  0.63414634,\n",
       "        0.04347826,  0.84782609,  0.81632653,  0.94871795,  0.04301075,\n",
       "        0.22580645,  0.98924731,  0.84375   ,  0.94047619,  0.91891892,\n",
       "        0.85416667,  0.67307692,  0.97468354,  0.74545455,  0.7311828 ,\n",
       "        0.45945946,  0.97938144,  0.92405063,  0.97101449,  0.68493151,\n",
       "        0.58      ,  0.79104478,  0.68888889,  0.99278846,  0.87179487,\n",
       "        0.36111111,  0.36206897,  0.21621622,  0.08510638,  0.62745098,\n",
       "        0.48387097,  0.25806452,  0.98633257,  0.97761194,  0.9789916 ,\n",
       "        0.97530864,  0.96470588,  0.95588235,  0.89705882,  0.85483871,\n",
       "        0.72463768,  0.05405405,  0.8630137 ,  0.16129032,  0.29166667,\n",
       "        0.70454545,  0.23255814,  0.94623656,  0.95412844,  0.75555556,\n",
       "        0.67647059,  0.08      ,  0.98837209,  0.4137931 ,  0.59375   ,\n",
       "        0.52777778,  0.48      ,  0.46551724,  0.34146341,  0.36619718,\n",
       "        0.24137931,  0.30188679,  0.265625  ,  0.09756098,  0.13559322,\n",
       "        0.91440953,  0.91509434,  0.89622642,  0.86086957,  0.85436893,\n",
       "        0.85245902,  0.81609195,  0.8030303 ,  0.78      ,  0.77647059,\n",
       "        0.79545455,  0.76521739,  0.77966102,  0.72321429,  0.72972973,\n",
       "        0.67741935,  0.62222222,  0.98652291,  0.78873239,  0.26086957,\n",
       "        0.71875   ,  0.39285714,  0.87804878,  0.69444444,  0.79411765,\n",
       "        0.992     ,  0.97647059,  0.31578947,  0.31707317,  0.88679245,\n",
       "        0.79591837,  0.9261745 ,  0.8629174 ,  0.98666667,  0.26923077,\n",
       "        0.17857143,  0.38235294,  0.99180328,  0.15942029,  0.90277778,\n",
       "        0.36      ,  0.98507463,  0.7721519 ,  0.04651163,  0.68965517,\n",
       "        0.95890411,  0.06766917,  0.56603774,  0.69767442,  0.93442623,\n",
       "        0.97807757,  0.52173913,  0.75471698,  0.70967742,  0.98076923,\n",
       "        0.23809524,  0.95522388,  0.87142857,  0.74418605,  0.83783784,\n",
       "        0.75510204,  0.59090909,  0.89711934,  0.87301587,  0.89795918,\n",
       "        0.73493976,  0.99122807,  0.96644295,  0.95876289,  0.86046512,\n",
       "        0.07954545,  0.76666667,  0.16216216,  0.02739726,  0.09677419,\n",
       "        0.27659574,  0.83636364,  0.65306122,  0.53521127,  0.97580645,\n",
       "        0.93478261,  0.7755102 ,  0.98672566,  0.99619772,  0.9876161 ,\n",
       "        0.97169811,  0.92957746,  0.97534247,  0.97123894,  0.97191011,\n",
       "        0.97969543,  0.96478873,  0.95491803,  0.03508772,  0.73584906,\n",
       "        0.96341463,  0.69135802,  0.61764706,  0.74358974,  0.92428198,\n",
       "        0.93421053,  0.78723404,  0.37931034,  0.95762712,  0.92783505,\n",
       "        0.16      ,  0.34615385,  0.76388889,  0.63461538,  0.68518519,\n",
       "        0.67567568,  0.675     ,  0.98394495,  0.40540541,  0.57575758,\n",
       "        0.89189189,  0.86330935,  0.18604651,  0.98897059,  0.9673913 ,\n",
       "        0.9379562 ,  0.93243243,  0.98347107,  0.19444444,  0.91139241,\n",
       "        0.84444444,  0.93220339,  0.968     ,  0.53125   ,  0.71698113,\n",
       "        0.80672269,  0.02325581,  0.21875   ,  0.89519651,  0.71604938,\n",
       "        0.2826087 ,  0.07462687,  0.97887324,  0.58974359,  0.33928571,\n",
       "        0.21818182,  0.06779661,  0.28947368,  0.9625    ,  0.95081967,\n",
       "        0.91549296,  0.10344828,  0.99212598,  0.84848485,  0.07317073,\n",
       "        0.97831325,  0.97972973,  0.96511628,  0.9202454 ,  0.90140845,\n",
       "        0.14492754,  0.37837838,  0.46511628,  0.98765432,  0.98697068,\n",
       "        0.91875   ,  0.84274194,  0.84693878,  0.828125  ,  0.6969697 ,\n",
       "        0.02439024,  0.99090909,  0.94078947,  0.94666667,  0.98979592,\n",
       "        0.81132075,  0.87654321,  0.15277778,  0.68085106,  0.82022472,\n",
       "        0.88321168,  0.96703297,  0.08955224,  0.31818182,  0.96610169,\n",
       "        0.95302013,  0.94375   ,  0.81578947,  0.98319328,  0.98639456,\n",
       "        0.89719626,  0.99107143,  0.64864865,  0.88947368,  0.78688525,\n",
       "        0.825     ,  0.34482759,  0.95098039,  0.04444444,  0.95804196,\n",
       "        0.18461538,  0.97663551,  0.97196262,  0.72641509,  0.3877551 ,\n",
       "        0.85964912,  0.43333333,  0.34920635,  0.09195402,  0.98529412,\n",
       "        0.36666667,  0.9695122 ,  0.83928571,  0.75675676,  0.5862069 ,\n",
       "        0.98780488,  0.48648649,  0.03448276,  0.04285714,  0.96039604,\n",
       "        0.01098901,  0.43902439,  0.31428571,  0.95327103,  0.98695652,\n",
       "        0.94949495,  0.89230769,  0.83673469,  0.75438596,  0.24242424,\n",
       "        0.25961538,  0.75409836,  0.14634146,  0.9627907 ,  0.30232558,\n",
       "        0.97163121,  0.37037037,  0.0212766 ,  0.5952381 ,  0.995     ,\n",
       "        0.99029126,  0.99689441,  0.9691358 ,  0.74      ,  0.34210526,\n",
       "        0.38596491,  0.97857143,  0.90697674,  0.20588235,  0.97807018,\n",
       "        0.97905759,  0.77570093,  0.11666667,  0.85384615,  0.92380952,\n",
       "        0.76829268,  0.91612903,  0.91025641,  0.99019608,  0.58181818,\n",
       "        0.46875   ,  0.73170732,  0.97321429,  0.70731707,  0.59259259,\n",
       "        0.10810811,  0.89830508,  0.44827586,  0.97457627,  0.8961039 ,\n",
       "        0.54285714,  0.07843137,  0.98251748,  0.90234375,  0.02830189,\n",
       "        0.98947368,  0.98684211,  0.17073171,  0.69724771,  0.976     ,\n",
       "        0.98165138,  0.97590361,  0.90438247,  0.40740741,  0.8490566 ,\n",
       "        0.96410256,  0.9380531 ,  0.77358491,  0.17777778,  0.44117647,\n",
       "        0.03076923,  0.87755102,  0.0962963 ,  0.91836735,  0.87951807,\n",
       "        0.80851064,  0.99141104])"
      ]
     },
     "execution_count": 7,
     "metadata": {},
     "output_type": "execute_result"
    }
   ],
   "source": [
    "df['Helpful%'].unique()"
   ]
  },
  {
   "cell_type": "code",
   "execution_count": 8,
   "id": "29b34299",
   "metadata": {
    "execution": {
     "iopub.execute_input": "2022-12-16T08:13:20.300722Z",
     "iopub.status.busy": "2022-12-16T08:13:20.299581Z",
     "iopub.status.idle": "2022-12-16T08:13:20.327162Z",
     "shell.execute_reply": "2022-12-16T08:13:20.325921Z"
    },
    "papermill": {
     "duration": 0.049615,
     "end_time": "2022-12-16T08:13:20.329943",
     "exception": false,
     "start_time": "2022-12-16T08:13:20.280328",
     "status": "completed"
    },
    "tags": []
   },
   "outputs": [],
   "source": [
    "Bin=[-1,0,0.2,0.4,0.6,0.8,1]\n",
    "categories=['Empty','0-20%','20-40%','40-60%','60-80%','80-100%']\n",
    "df['%upvote']=pd.cut(df['Helpful%'],bins=Bin,labels=categories)"
   ]
  },
  {
   "cell_type": "code",
   "execution_count": 9,
   "id": "4519dc8d",
   "metadata": {
    "execution": {
     "iopub.execute_input": "2022-12-16T08:13:20.367867Z",
     "iopub.status.busy": "2022-12-16T08:13:20.367414Z",
     "iopub.status.idle": "2022-12-16T08:13:20.385855Z",
     "shell.execute_reply": "2022-12-16T08:13:20.384563Z"
    },
    "papermill": {
     "duration": 0.040165,
     "end_time": "2022-12-16T08:13:20.388295",
     "exception": false,
     "start_time": "2022-12-16T08:13:20.348130",
     "status": "completed"
    },
    "tags": []
   },
   "outputs": [
    {
     "data": {
      "text/html": [
       "<div>\n",
       "<style scoped>\n",
       "    .dataframe tbody tr th:only-of-type {\n",
       "        vertical-align: middle;\n",
       "    }\n",
       "\n",
       "    .dataframe tbody tr th {\n",
       "        vertical-align: top;\n",
       "    }\n",
       "\n",
       "    .dataframe thead th {\n",
       "        text-align: right;\n",
       "    }\n",
       "</style>\n",
       "<table border=\"1\" class=\"dataframe\">\n",
       "  <thead>\n",
       "    <tr style=\"text-align: right;\">\n",
       "      <th></th>\n",
       "      <th>Id</th>\n",
       "      <th>ProductId</th>\n",
       "      <th>UserId</th>\n",
       "      <th>ProfileName</th>\n",
       "      <th>HelpfulnessNumerator</th>\n",
       "      <th>HelpfulnessDenominator</th>\n",
       "      <th>Score</th>\n",
       "      <th>Time</th>\n",
       "      <th>Summary</th>\n",
       "      <th>Text</th>\n",
       "      <th>Helpful%</th>\n",
       "      <th>%upvote</th>\n",
       "    </tr>\n",
       "  </thead>\n",
       "  <tbody>\n",
       "    <tr>\n",
       "      <th>0</th>\n",
       "      <td>1</td>\n",
       "      <td>B001E4KFG0</td>\n",
       "      <td>A3SGXH7AUHU8GW</td>\n",
       "      <td>delmartian</td>\n",
       "      <td>1</td>\n",
       "      <td>1</td>\n",
       "      <td>5</td>\n",
       "      <td>1303862400</td>\n",
       "      <td>Good Quality Dog Food</td>\n",
       "      <td>I have bought several of the Vitality canned d...</td>\n",
       "      <td>1.0</td>\n",
       "      <td>80-100%</td>\n",
       "    </tr>\n",
       "    <tr>\n",
       "      <th>1</th>\n",
       "      <td>2</td>\n",
       "      <td>B00813GRG4</td>\n",
       "      <td>A1D87F6ZCVE5NK</td>\n",
       "      <td>dll pa</td>\n",
       "      <td>0</td>\n",
       "      <td>0</td>\n",
       "      <td>1</td>\n",
       "      <td>1346976000</td>\n",
       "      <td>Not as Advertised</td>\n",
       "      <td>Product arrived labeled as Jumbo Salted Peanut...</td>\n",
       "      <td>-1.0</td>\n",
       "      <td>NaN</td>\n",
       "    </tr>\n",
       "    <tr>\n",
       "      <th>2</th>\n",
       "      <td>3</td>\n",
       "      <td>B000LQOCH0</td>\n",
       "      <td>ABXLMWJIXXAIN</td>\n",
       "      <td>Natalia Corres \"Natalia Corres\"</td>\n",
       "      <td>1</td>\n",
       "      <td>1</td>\n",
       "      <td>4</td>\n",
       "      <td>1219017600</td>\n",
       "      <td>\"Delight\" says it all</td>\n",
       "      <td>This is a confection that has been around a fe...</td>\n",
       "      <td>1.0</td>\n",
       "      <td>80-100%</td>\n",
       "    </tr>\n",
       "    <tr>\n",
       "      <th>3</th>\n",
       "      <td>4</td>\n",
       "      <td>B000UA0QIQ</td>\n",
       "      <td>A395BORC6FGVXV</td>\n",
       "      <td>Karl</td>\n",
       "      <td>3</td>\n",
       "      <td>3</td>\n",
       "      <td>2</td>\n",
       "      <td>1307923200</td>\n",
       "      <td>Cough Medicine</td>\n",
       "      <td>If you are looking for the secret ingredient i...</td>\n",
       "      <td>1.0</td>\n",
       "      <td>80-100%</td>\n",
       "    </tr>\n",
       "    <tr>\n",
       "      <th>4</th>\n",
       "      <td>5</td>\n",
       "      <td>B006K2ZZ7K</td>\n",
       "      <td>A1UQRSCLF8GW1T</td>\n",
       "      <td>Michael D. Bigham \"M. Wassir\"</td>\n",
       "      <td>0</td>\n",
       "      <td>0</td>\n",
       "      <td>5</td>\n",
       "      <td>1350777600</td>\n",
       "      <td>Great taffy</td>\n",
       "      <td>Great taffy at a great price.  There was a wid...</td>\n",
       "      <td>-1.0</td>\n",
       "      <td>NaN</td>\n",
       "    </tr>\n",
       "  </tbody>\n",
       "</table>\n",
       "</div>"
      ],
      "text/plain": [
       "   Id   ProductId          UserId                      ProfileName  \\\n",
       "0   1  B001E4KFG0  A3SGXH7AUHU8GW                       delmartian   \n",
       "1   2  B00813GRG4  A1D87F6ZCVE5NK                           dll pa   \n",
       "2   3  B000LQOCH0   ABXLMWJIXXAIN  Natalia Corres \"Natalia Corres\"   \n",
       "3   4  B000UA0QIQ  A395BORC6FGVXV                             Karl   \n",
       "4   5  B006K2ZZ7K  A1UQRSCLF8GW1T    Michael D. Bigham \"M. Wassir\"   \n",
       "\n",
       "   HelpfulnessNumerator  HelpfulnessDenominator  Score        Time  \\\n",
       "0                     1                       1      5  1303862400   \n",
       "1                     0                       0      1  1346976000   \n",
       "2                     1                       1      4  1219017600   \n",
       "3                     3                       3      2  1307923200   \n",
       "4                     0                       0      5  1350777600   \n",
       "\n",
       "                 Summary                                               Text  \\\n",
       "0  Good Quality Dog Food  I have bought several of the Vitality canned d...   \n",
       "1      Not as Advertised  Product arrived labeled as Jumbo Salted Peanut...   \n",
       "2  \"Delight\" says it all  This is a confection that has been around a fe...   \n",
       "3         Cough Medicine  If you are looking for the secret ingredient i...   \n",
       "4            Great taffy  Great taffy at a great price.  There was a wid...   \n",
       "\n",
       "   Helpful%  %upvote  \n",
       "0       1.0  80-100%  \n",
       "1      -1.0      NaN  \n",
       "2       1.0  80-100%  \n",
       "3       1.0  80-100%  \n",
       "4      -1.0      NaN  "
      ]
     },
     "execution_count": 9,
     "metadata": {},
     "output_type": "execute_result"
    }
   ],
   "source": [
    "df.head()"
   ]
  },
  {
   "cell_type": "code",
   "execution_count": 10,
   "id": "e4dedc1a",
   "metadata": {
    "execution": {
     "iopub.execute_input": "2022-12-16T08:13:20.426883Z",
     "iopub.status.busy": "2022-12-16T08:13:20.426223Z",
     "iopub.status.idle": "2022-12-16T08:13:20.771609Z",
     "shell.execute_reply": "2022-12-16T08:13:20.770440Z"
    },
    "papermill": {
     "duration": 0.367555,
     "end_time": "2022-12-16T08:13:20.774169",
     "exception": false,
     "start_time": "2022-12-16T08:13:20.406614",
     "status": "completed"
    },
    "tags": []
   },
   "outputs": [
    {
     "data": {
      "text/html": [
       "<div>\n",
       "<style scoped>\n",
       "    .dataframe tbody tr th:only-of-type {\n",
       "        vertical-align: middle;\n",
       "    }\n",
       "\n",
       "    .dataframe tbody tr th {\n",
       "        vertical-align: top;\n",
       "    }\n",
       "\n",
       "    .dataframe thead th {\n",
       "        text-align: right;\n",
       "    }\n",
       "</style>\n",
       "<table border=\"1\" class=\"dataframe\">\n",
       "  <thead>\n",
       "    <tr style=\"text-align: right;\">\n",
       "      <th></th>\n",
       "      <th></th>\n",
       "      <th>Id</th>\n",
       "      <th>ProductId</th>\n",
       "      <th>UserId</th>\n",
       "      <th>ProfileName</th>\n",
       "      <th>HelpfulnessNumerator</th>\n",
       "      <th>HelpfulnessDenominator</th>\n",
       "      <th>Time</th>\n",
       "      <th>Summary</th>\n",
       "      <th>Text</th>\n",
       "      <th>Helpful%</th>\n",
       "    </tr>\n",
       "    <tr>\n",
       "      <th>Score</th>\n",
       "      <th>%upvote</th>\n",
       "      <th></th>\n",
       "      <th></th>\n",
       "      <th></th>\n",
       "      <th></th>\n",
       "      <th></th>\n",
       "      <th></th>\n",
       "      <th></th>\n",
       "      <th></th>\n",
       "      <th></th>\n",
       "      <th></th>\n",
       "    </tr>\n",
       "  </thead>\n",
       "  <tbody>\n",
       "    <tr>\n",
       "      <th rowspan=\"6\" valign=\"top\">1</th>\n",
       "      <th>Empty</th>\n",
       "      <td>8060</td>\n",
       "      <td>8060</td>\n",
       "      <td>8060</td>\n",
       "      <td>8060</td>\n",
       "      <td>8060</td>\n",
       "      <td>8060</td>\n",
       "      <td>8060</td>\n",
       "      <td>8060</td>\n",
       "      <td>8060</td>\n",
       "      <td>8060</td>\n",
       "    </tr>\n",
       "    <tr>\n",
       "      <th>0-20%</th>\n",
       "      <td>2338</td>\n",
       "      <td>2338</td>\n",
       "      <td>2338</td>\n",
       "      <td>2338</td>\n",
       "      <td>2338</td>\n",
       "      <td>2338</td>\n",
       "      <td>2338</td>\n",
       "      <td>2338</td>\n",
       "      <td>2338</td>\n",
       "      <td>2338</td>\n",
       "    </tr>\n",
       "    <tr>\n",
       "      <th>20-40%</th>\n",
       "      <td>4649</td>\n",
       "      <td>4649</td>\n",
       "      <td>4649</td>\n",
       "      <td>4649</td>\n",
       "      <td>4649</td>\n",
       "      <td>4649</td>\n",
       "      <td>4649</td>\n",
       "      <td>4649</td>\n",
       "      <td>4649</td>\n",
       "      <td>4649</td>\n",
       "    </tr>\n",
       "    <tr>\n",
       "      <th>40-60%</th>\n",
       "      <td>6586</td>\n",
       "      <td>6586</td>\n",
       "      <td>6586</td>\n",
       "      <td>6586</td>\n",
       "      <td>6586</td>\n",
       "      <td>6586</td>\n",
       "      <td>6586</td>\n",
       "      <td>6586</td>\n",
       "      <td>6586</td>\n",
       "      <td>6586</td>\n",
       "    </tr>\n",
       "    <tr>\n",
       "      <th>60-80%</th>\n",
       "      <td>5838</td>\n",
       "      <td>5838</td>\n",
       "      <td>5838</td>\n",
       "      <td>5836</td>\n",
       "      <td>5838</td>\n",
       "      <td>5838</td>\n",
       "      <td>5838</td>\n",
       "      <td>5838</td>\n",
       "      <td>5838</td>\n",
       "      <td>5838</td>\n",
       "    </tr>\n",
       "    <tr>\n",
       "      <th>80-100%</th>\n",
       "      <td>12531</td>\n",
       "      <td>12531</td>\n",
       "      <td>12531</td>\n",
       "      <td>12531</td>\n",
       "      <td>12531</td>\n",
       "      <td>12531</td>\n",
       "      <td>12531</td>\n",
       "      <td>12531</td>\n",
       "      <td>12531</td>\n",
       "      <td>12531</td>\n",
       "    </tr>\n",
       "    <tr>\n",
       "      <th rowspan=\"6\" valign=\"top\">2</th>\n",
       "      <th>Empty</th>\n",
       "      <td>4234</td>\n",
       "      <td>4234</td>\n",
       "      <td>4234</td>\n",
       "      <td>4234</td>\n",
       "      <td>4234</td>\n",
       "      <td>4234</td>\n",
       "      <td>4234</td>\n",
       "      <td>4234</td>\n",
       "      <td>4234</td>\n",
       "      <td>4234</td>\n",
       "    </tr>\n",
       "    <tr>\n",
       "      <th>0-20%</th>\n",
       "      <td>762</td>\n",
       "      <td>762</td>\n",
       "      <td>762</td>\n",
       "      <td>762</td>\n",
       "      <td>762</td>\n",
       "      <td>762</td>\n",
       "      <td>762</td>\n",
       "      <td>737</td>\n",
       "      <td>762</td>\n",
       "      <td>762</td>\n",
       "    </tr>\n",
       "    <tr>\n",
       "      <th>20-40%</th>\n",
       "      <td>1618</td>\n",
       "      <td>1618</td>\n",
       "      <td>1618</td>\n",
       "      <td>1618</td>\n",
       "      <td>1618</td>\n",
       "      <td>1618</td>\n",
       "      <td>1618</td>\n",
       "      <td>1618</td>\n",
       "      <td>1618</td>\n",
       "      <td>1618</td>\n",
       "    </tr>\n",
       "    <tr>\n",
       "      <th>40-60%</th>\n",
       "      <td>3051</td>\n",
       "      <td>3051</td>\n",
       "      <td>3051</td>\n",
       "      <td>3051</td>\n",
       "      <td>3051</td>\n",
       "      <td>3051</td>\n",
       "      <td>3051</td>\n",
       "      <td>3051</td>\n",
       "      <td>3051</td>\n",
       "      <td>3051</td>\n",
       "    </tr>\n",
       "    <tr>\n",
       "      <th>60-80%</th>\n",
       "      <td>2486</td>\n",
       "      <td>2486</td>\n",
       "      <td>2486</td>\n",
       "      <td>2486</td>\n",
       "      <td>2486</td>\n",
       "      <td>2486</td>\n",
       "      <td>2486</td>\n",
       "      <td>2486</td>\n",
       "      <td>2486</td>\n",
       "      <td>2486</td>\n",
       "    </tr>\n",
       "    <tr>\n",
       "      <th>80-100%</th>\n",
       "      <td>7014</td>\n",
       "      <td>7014</td>\n",
       "      <td>7014</td>\n",
       "      <td>7014</td>\n",
       "      <td>7014</td>\n",
       "      <td>7014</td>\n",
       "      <td>7014</td>\n",
       "      <td>7014</td>\n",
       "      <td>7014</td>\n",
       "      <td>7014</td>\n",
       "    </tr>\n",
       "    <tr>\n",
       "      <th rowspan=\"6\" valign=\"top\">3</th>\n",
       "      <th>Empty</th>\n",
       "      <td>5062</td>\n",
       "      <td>5062</td>\n",
       "      <td>5062</td>\n",
       "      <td>5062</td>\n",
       "      <td>5062</td>\n",
       "      <td>5062</td>\n",
       "      <td>5062</td>\n",
       "      <td>5062</td>\n",
       "      <td>5062</td>\n",
       "      <td>5062</td>\n",
       "    </tr>\n",
       "    <tr>\n",
       "      <th>0-20%</th>\n",
       "      <td>474</td>\n",
       "      <td>474</td>\n",
       "      <td>474</td>\n",
       "      <td>474</td>\n",
       "      <td>474</td>\n",
       "      <td>474</td>\n",
       "      <td>474</td>\n",
       "      <td>474</td>\n",
       "      <td>474</td>\n",
       "      <td>474</td>\n",
       "    </tr>\n",
       "    <tr>\n",
       "      <th>20-40%</th>\n",
       "      <td>1506</td>\n",
       "      <td>1506</td>\n",
       "      <td>1506</td>\n",
       "      <td>1506</td>\n",
       "      <td>1506</td>\n",
       "      <td>1506</td>\n",
       "      <td>1506</td>\n",
       "      <td>1506</td>\n",
       "      <td>1506</td>\n",
       "      <td>1506</td>\n",
       "    </tr>\n",
       "    <tr>\n",
       "      <th>40-60%</th>\n",
       "      <td>3384</td>\n",
       "      <td>3384</td>\n",
       "      <td>3384</td>\n",
       "      <td>3384</td>\n",
       "      <td>3384</td>\n",
       "      <td>3384</td>\n",
       "      <td>3384</td>\n",
       "      <td>3384</td>\n",
       "      <td>3384</td>\n",
       "      <td>3384</td>\n",
       "    </tr>\n",
       "    <tr>\n",
       "      <th>60-80%</th>\n",
       "      <td>2754</td>\n",
       "      <td>2754</td>\n",
       "      <td>2754</td>\n",
       "      <td>2754</td>\n",
       "      <td>2754</td>\n",
       "      <td>2754</td>\n",
       "      <td>2754</td>\n",
       "      <td>2754</td>\n",
       "      <td>2754</td>\n",
       "      <td>2754</td>\n",
       "    </tr>\n",
       "    <tr>\n",
       "      <th>80-100%</th>\n",
       "      <td>11037</td>\n",
       "      <td>11037</td>\n",
       "      <td>11037</td>\n",
       "      <td>11037</td>\n",
       "      <td>11037</td>\n",
       "      <td>11037</td>\n",
       "      <td>11037</td>\n",
       "      <td>11036</td>\n",
       "      <td>11037</td>\n",
       "      <td>11037</td>\n",
       "    </tr>\n",
       "    <tr>\n",
       "      <th rowspan=\"6\" valign=\"top\">4</th>\n",
       "      <th>Empty</th>\n",
       "      <td>4780</td>\n",
       "      <td>4780</td>\n",
       "      <td>4780</td>\n",
       "      <td>4780</td>\n",
       "      <td>4780</td>\n",
       "      <td>4780</td>\n",
       "      <td>4780</td>\n",
       "      <td>4780</td>\n",
       "      <td>4780</td>\n",
       "      <td>4780</td>\n",
       "    </tr>\n",
       "    <tr>\n",
       "      <th>0-20%</th>\n",
       "      <td>116</td>\n",
       "      <td>116</td>\n",
       "      <td>116</td>\n",
       "      <td>116</td>\n",
       "      <td>116</td>\n",
       "      <td>116</td>\n",
       "      <td>116</td>\n",
       "      <td>116</td>\n",
       "      <td>116</td>\n",
       "      <td>116</td>\n",
       "    </tr>\n",
       "    <tr>\n",
       "      <th>20-40%</th>\n",
       "      <td>909</td>\n",
       "      <td>909</td>\n",
       "      <td>909</td>\n",
       "      <td>909</td>\n",
       "      <td>909</td>\n",
       "      <td>909</td>\n",
       "      <td>909</td>\n",
       "      <td>909</td>\n",
       "      <td>909</td>\n",
       "      <td>909</td>\n",
       "    </tr>\n",
       "    <tr>\n",
       "      <th>40-60%</th>\n",
       "      <td>3185</td>\n",
       "      <td>3185</td>\n",
       "      <td>3185</td>\n",
       "      <td>3185</td>\n",
       "      <td>3185</td>\n",
       "      <td>3185</td>\n",
       "      <td>3185</td>\n",
       "      <td>3185</td>\n",
       "      <td>3185</td>\n",
       "      <td>3185</td>\n",
       "    </tr>\n",
       "    <tr>\n",
       "      <th>60-80%</th>\n",
       "      <td>2941</td>\n",
       "      <td>2941</td>\n",
       "      <td>2941</td>\n",
       "      <td>2941</td>\n",
       "      <td>2941</td>\n",
       "      <td>2941</td>\n",
       "      <td>2941</td>\n",
       "      <td>2941</td>\n",
       "      <td>2941</td>\n",
       "      <td>2941</td>\n",
       "    </tr>\n",
       "    <tr>\n",
       "      <th>80-100%</th>\n",
       "      <td>26707</td>\n",
       "      <td>26707</td>\n",
       "      <td>26707</td>\n",
       "      <td>26707</td>\n",
       "      <td>26707</td>\n",
       "      <td>26707</td>\n",
       "      <td>26707</td>\n",
       "      <td>26707</td>\n",
       "      <td>26707</td>\n",
       "      <td>26707</td>\n",
       "    </tr>\n",
       "    <tr>\n",
       "      <th rowspan=\"6\" valign=\"top\">5</th>\n",
       "      <th>Empty</th>\n",
       "      <td>11638</td>\n",
       "      <td>11638</td>\n",
       "      <td>11638</td>\n",
       "      <td>11638</td>\n",
       "      <td>11638</td>\n",
       "      <td>11638</td>\n",
       "      <td>11638</td>\n",
       "      <td>11638</td>\n",
       "      <td>11638</td>\n",
       "      <td>11638</td>\n",
       "    </tr>\n",
       "    <tr>\n",
       "      <th>0-20%</th>\n",
       "      <td>432</td>\n",
       "      <td>432</td>\n",
       "      <td>432</td>\n",
       "      <td>432</td>\n",
       "      <td>432</td>\n",
       "      <td>432</td>\n",
       "      <td>432</td>\n",
       "      <td>432</td>\n",
       "      <td>432</td>\n",
       "      <td>432</td>\n",
       "    </tr>\n",
       "    <tr>\n",
       "      <th>20-40%</th>\n",
       "      <td>2275</td>\n",
       "      <td>2275</td>\n",
       "      <td>2275</td>\n",
       "      <td>2275</td>\n",
       "      <td>2275</td>\n",
       "      <td>2275</td>\n",
       "      <td>2275</td>\n",
       "      <td>2275</td>\n",
       "      <td>2275</td>\n",
       "      <td>2275</td>\n",
       "    </tr>\n",
       "    <tr>\n",
       "      <th>40-60%</th>\n",
       "      <td>10312</td>\n",
       "      <td>10312</td>\n",
       "      <td>10312</td>\n",
       "      <td>10312</td>\n",
       "      <td>10312</td>\n",
       "      <td>10312</td>\n",
       "      <td>10312</td>\n",
       "      <td>10312</td>\n",
       "      <td>10312</td>\n",
       "      <td>10312</td>\n",
       "    </tr>\n",
       "    <tr>\n",
       "      <th>60-80%</th>\n",
       "      <td>11060</td>\n",
       "      <td>11060</td>\n",
       "      <td>11060</td>\n",
       "      <td>11060</td>\n",
       "      <td>11060</td>\n",
       "      <td>11060</td>\n",
       "      <td>11060</td>\n",
       "      <td>11060</td>\n",
       "      <td>11060</td>\n",
       "      <td>11060</td>\n",
       "    </tr>\n",
       "    <tr>\n",
       "      <th>80-100%</th>\n",
       "      <td>140661</td>\n",
       "      <td>140661</td>\n",
       "      <td>140661</td>\n",
       "      <td>140659</td>\n",
       "      <td>140661</td>\n",
       "      <td>140661</td>\n",
       "      <td>140661</td>\n",
       "      <td>140661</td>\n",
       "      <td>140661</td>\n",
       "      <td>140661</td>\n",
       "    </tr>\n",
       "  </tbody>\n",
       "</table>\n",
       "</div>"
      ],
      "text/plain": [
       "                   Id  ProductId  UserId  ProfileName  HelpfulnessNumerator  \\\n",
       "Score %upvote                                                                 \n",
       "1     Empty      8060       8060    8060         8060                  8060   \n",
       "      0-20%      2338       2338    2338         2338                  2338   \n",
       "      20-40%     4649       4649    4649         4649                  4649   \n",
       "      40-60%     6586       6586    6586         6586                  6586   \n",
       "      60-80%     5838       5838    5838         5836                  5838   \n",
       "      80-100%   12531      12531   12531        12531                 12531   \n",
       "2     Empty      4234       4234    4234         4234                  4234   \n",
       "      0-20%       762        762     762          762                   762   \n",
       "      20-40%     1618       1618    1618         1618                  1618   \n",
       "      40-60%     3051       3051    3051         3051                  3051   \n",
       "      60-80%     2486       2486    2486         2486                  2486   \n",
       "      80-100%    7014       7014    7014         7014                  7014   \n",
       "3     Empty      5062       5062    5062         5062                  5062   \n",
       "      0-20%       474        474     474          474                   474   \n",
       "      20-40%     1506       1506    1506         1506                  1506   \n",
       "      40-60%     3384       3384    3384         3384                  3384   \n",
       "      60-80%     2754       2754    2754         2754                  2754   \n",
       "      80-100%   11037      11037   11037        11037                 11037   \n",
       "4     Empty      4780       4780    4780         4780                  4780   \n",
       "      0-20%       116        116     116          116                   116   \n",
       "      20-40%      909        909     909          909                   909   \n",
       "      40-60%     3185       3185    3185         3185                  3185   \n",
       "      60-80%     2941       2941    2941         2941                  2941   \n",
       "      80-100%   26707      26707   26707        26707                 26707   \n",
       "5     Empty     11638      11638   11638        11638                 11638   \n",
       "      0-20%       432        432     432          432                   432   \n",
       "      20-40%     2275       2275    2275         2275                  2275   \n",
       "      40-60%    10312      10312   10312        10312                 10312   \n",
       "      60-80%    11060      11060   11060        11060                 11060   \n",
       "      80-100%  140661     140661  140661       140659                140661   \n",
       "\n",
       "               HelpfulnessDenominator    Time  Summary    Text  Helpful%  \n",
       "Score %upvote                                                             \n",
       "1     Empty                      8060    8060     8060    8060      8060  \n",
       "      0-20%                      2338    2338     2338    2338      2338  \n",
       "      20-40%                     4649    4649     4649    4649      4649  \n",
       "      40-60%                     6586    6586     6586    6586      6586  \n",
       "      60-80%                     5838    5838     5838    5838      5838  \n",
       "      80-100%                   12531   12531    12531   12531     12531  \n",
       "2     Empty                      4234    4234     4234    4234      4234  \n",
       "      0-20%                       762     762      737     762       762  \n",
       "      20-40%                     1618    1618     1618    1618      1618  \n",
       "      40-60%                     3051    3051     3051    3051      3051  \n",
       "      60-80%                     2486    2486     2486    2486      2486  \n",
       "      80-100%                    7014    7014     7014    7014      7014  \n",
       "3     Empty                      5062    5062     5062    5062      5062  \n",
       "      0-20%                       474     474      474     474       474  \n",
       "      20-40%                     1506    1506     1506    1506      1506  \n",
       "      40-60%                     3384    3384     3384    3384      3384  \n",
       "      60-80%                     2754    2754     2754    2754      2754  \n",
       "      80-100%                   11037   11037    11036   11037     11037  \n",
       "4     Empty                      4780    4780     4780    4780      4780  \n",
       "      0-20%                       116     116      116     116       116  \n",
       "      20-40%                      909     909      909     909       909  \n",
       "      40-60%                     3185    3185     3185    3185      3185  \n",
       "      60-80%                     2941    2941     2941    2941      2941  \n",
       "      80-100%                   26707   26707    26707   26707     26707  \n",
       "5     Empty                     11638   11638    11638   11638     11638  \n",
       "      0-20%                       432     432      432     432       432  \n",
       "      20-40%                     2275    2275     2275    2275      2275  \n",
       "      40-60%                    10312   10312    10312   10312     10312  \n",
       "      60-80%                    11060   11060    11060   11060     11060  \n",
       "      80-100%                  140661  140661   140661  140661    140661  "
      ]
     },
     "execution_count": 10,
     "metadata": {},
     "output_type": "execute_result"
    }
   ],
   "source": [
    "# Apply Exploratory Data Analysis on Data\n",
    "\n",
    "df.groupby(['Score','%upvote']).agg('count')"
   ]
  },
  {
   "cell_type": "code",
   "execution_count": 11,
   "id": "150efcca",
   "metadata": {
    "execution": {
     "iopub.execute_input": "2022-12-16T08:13:20.814383Z",
     "iopub.status.busy": "2022-12-16T08:13:20.813717Z",
     "iopub.status.idle": "2022-12-16T08:13:20.868321Z",
     "shell.execute_reply": "2022-12-16T08:13:20.866864Z"
    },
    "papermill": {
     "duration": 0.077882,
     "end_time": "2022-12-16T08:13:20.871171",
     "exception": false,
     "start_time": "2022-12-16T08:13:20.793289",
     "status": "completed"
    },
    "tags": []
   },
   "outputs": [
    {
     "data": {
      "text/html": [
       "<div>\n",
       "<style scoped>\n",
       "    .dataframe tbody tr th:only-of-type {\n",
       "        vertical-align: middle;\n",
       "    }\n",
       "\n",
       "    .dataframe tbody tr th {\n",
       "        vertical-align: top;\n",
       "    }\n",
       "\n",
       "    .dataframe thead th {\n",
       "        text-align: right;\n",
       "    }\n",
       "</style>\n",
       "<table border=\"1\" class=\"dataframe\">\n",
       "  <thead>\n",
       "    <tr style=\"text-align: right;\">\n",
       "      <th></th>\n",
       "      <th>Score</th>\n",
       "      <th>%upvote</th>\n",
       "      <th>Id</th>\n",
       "    </tr>\n",
       "  </thead>\n",
       "  <tbody>\n",
       "    <tr>\n",
       "      <th>0</th>\n",
       "      <td>1</td>\n",
       "      <td>Empty</td>\n",
       "      <td>8060</td>\n",
       "    </tr>\n",
       "    <tr>\n",
       "      <th>1</th>\n",
       "      <td>1</td>\n",
       "      <td>0-20%</td>\n",
       "      <td>2338</td>\n",
       "    </tr>\n",
       "    <tr>\n",
       "      <th>2</th>\n",
       "      <td>1</td>\n",
       "      <td>20-40%</td>\n",
       "      <td>4649</td>\n",
       "    </tr>\n",
       "    <tr>\n",
       "      <th>3</th>\n",
       "      <td>1</td>\n",
       "      <td>40-60%</td>\n",
       "      <td>6586</td>\n",
       "    </tr>\n",
       "    <tr>\n",
       "      <th>4</th>\n",
       "      <td>1</td>\n",
       "      <td>60-80%</td>\n",
       "      <td>5838</td>\n",
       "    </tr>\n",
       "    <tr>\n",
       "      <th>5</th>\n",
       "      <td>1</td>\n",
       "      <td>80-100%</td>\n",
       "      <td>12531</td>\n",
       "    </tr>\n",
       "    <tr>\n",
       "      <th>6</th>\n",
       "      <td>2</td>\n",
       "      <td>Empty</td>\n",
       "      <td>4234</td>\n",
       "    </tr>\n",
       "    <tr>\n",
       "      <th>7</th>\n",
       "      <td>2</td>\n",
       "      <td>0-20%</td>\n",
       "      <td>762</td>\n",
       "    </tr>\n",
       "    <tr>\n",
       "      <th>8</th>\n",
       "      <td>2</td>\n",
       "      <td>20-40%</td>\n",
       "      <td>1618</td>\n",
       "    </tr>\n",
       "    <tr>\n",
       "      <th>9</th>\n",
       "      <td>2</td>\n",
       "      <td>40-60%</td>\n",
       "      <td>3051</td>\n",
       "    </tr>\n",
       "    <tr>\n",
       "      <th>10</th>\n",
       "      <td>2</td>\n",
       "      <td>60-80%</td>\n",
       "      <td>2486</td>\n",
       "    </tr>\n",
       "    <tr>\n",
       "      <th>11</th>\n",
       "      <td>2</td>\n",
       "      <td>80-100%</td>\n",
       "      <td>7014</td>\n",
       "    </tr>\n",
       "    <tr>\n",
       "      <th>12</th>\n",
       "      <td>3</td>\n",
       "      <td>Empty</td>\n",
       "      <td>5062</td>\n",
       "    </tr>\n",
       "    <tr>\n",
       "      <th>13</th>\n",
       "      <td>3</td>\n",
       "      <td>0-20%</td>\n",
       "      <td>474</td>\n",
       "    </tr>\n",
       "    <tr>\n",
       "      <th>14</th>\n",
       "      <td>3</td>\n",
       "      <td>20-40%</td>\n",
       "      <td>1506</td>\n",
       "    </tr>\n",
       "    <tr>\n",
       "      <th>15</th>\n",
       "      <td>3</td>\n",
       "      <td>40-60%</td>\n",
       "      <td>3384</td>\n",
       "    </tr>\n",
       "    <tr>\n",
       "      <th>16</th>\n",
       "      <td>3</td>\n",
       "      <td>60-80%</td>\n",
       "      <td>2754</td>\n",
       "    </tr>\n",
       "    <tr>\n",
       "      <th>17</th>\n",
       "      <td>3</td>\n",
       "      <td>80-100%</td>\n",
       "      <td>11037</td>\n",
       "    </tr>\n",
       "    <tr>\n",
       "      <th>18</th>\n",
       "      <td>4</td>\n",
       "      <td>Empty</td>\n",
       "      <td>4780</td>\n",
       "    </tr>\n",
       "    <tr>\n",
       "      <th>19</th>\n",
       "      <td>4</td>\n",
       "      <td>0-20%</td>\n",
       "      <td>116</td>\n",
       "    </tr>\n",
       "    <tr>\n",
       "      <th>20</th>\n",
       "      <td>4</td>\n",
       "      <td>20-40%</td>\n",
       "      <td>909</td>\n",
       "    </tr>\n",
       "    <tr>\n",
       "      <th>21</th>\n",
       "      <td>4</td>\n",
       "      <td>40-60%</td>\n",
       "      <td>3185</td>\n",
       "    </tr>\n",
       "    <tr>\n",
       "      <th>22</th>\n",
       "      <td>4</td>\n",
       "      <td>60-80%</td>\n",
       "      <td>2941</td>\n",
       "    </tr>\n",
       "    <tr>\n",
       "      <th>23</th>\n",
       "      <td>4</td>\n",
       "      <td>80-100%</td>\n",
       "      <td>26707</td>\n",
       "    </tr>\n",
       "    <tr>\n",
       "      <th>24</th>\n",
       "      <td>5</td>\n",
       "      <td>Empty</td>\n",
       "      <td>11638</td>\n",
       "    </tr>\n",
       "    <tr>\n",
       "      <th>25</th>\n",
       "      <td>5</td>\n",
       "      <td>0-20%</td>\n",
       "      <td>432</td>\n",
       "    </tr>\n",
       "    <tr>\n",
       "      <th>26</th>\n",
       "      <td>5</td>\n",
       "      <td>20-40%</td>\n",
       "      <td>2275</td>\n",
       "    </tr>\n",
       "    <tr>\n",
       "      <th>27</th>\n",
       "      <td>5</td>\n",
       "      <td>40-60%</td>\n",
       "      <td>10312</td>\n",
       "    </tr>\n",
       "    <tr>\n",
       "      <th>28</th>\n",
       "      <td>5</td>\n",
       "      <td>60-80%</td>\n",
       "      <td>11060</td>\n",
       "    </tr>\n",
       "    <tr>\n",
       "      <th>29</th>\n",
       "      <td>5</td>\n",
       "      <td>80-100%</td>\n",
       "      <td>140661</td>\n",
       "    </tr>\n",
       "  </tbody>\n",
       "</table>\n",
       "</div>"
      ],
      "text/plain": [
       "    Score  %upvote      Id\n",
       "0       1    Empty    8060\n",
       "1       1    0-20%    2338\n",
       "2       1   20-40%    4649\n",
       "3       1   40-60%    6586\n",
       "4       1   60-80%    5838\n",
       "5       1  80-100%   12531\n",
       "6       2    Empty    4234\n",
       "7       2    0-20%     762\n",
       "8       2   20-40%    1618\n",
       "9       2   40-60%    3051\n",
       "10      2   60-80%    2486\n",
       "11      2  80-100%    7014\n",
       "12      3    Empty    5062\n",
       "13      3    0-20%     474\n",
       "14      3   20-40%    1506\n",
       "15      3   40-60%    3384\n",
       "16      3   60-80%    2754\n",
       "17      3  80-100%   11037\n",
       "18      4    Empty    4780\n",
       "19      4    0-20%     116\n",
       "20      4   20-40%     909\n",
       "21      4   40-60%    3185\n",
       "22      4   60-80%    2941\n",
       "23      4  80-100%   26707\n",
       "24      5    Empty   11638\n",
       "25      5    0-20%     432\n",
       "26      5   20-40%    2275\n",
       "27      5   40-60%   10312\n",
       "28      5   60-80%   11060\n",
       "29      5  80-100%  140661"
      ]
     },
     "execution_count": 11,
     "metadata": {},
     "output_type": "execute_result"
    }
   ],
   "source": [
    "df_s=df.groupby(['Score','%upvote']).agg({'Id':'count'}).reset_index()\n",
    "df_s"
   ]
  },
  {
   "cell_type": "code",
   "execution_count": 12,
   "id": "b7972c3a",
   "metadata": {
    "execution": {
     "iopub.execute_input": "2022-12-16T08:13:20.912707Z",
     "iopub.status.busy": "2022-12-16T08:13:20.912263Z",
     "iopub.status.idle": "2022-12-16T08:13:20.932680Z",
     "shell.execute_reply": "2022-12-16T08:13:20.931338Z"
    },
    "papermill": {
     "duration": 0.043905,
     "end_time": "2022-12-16T08:13:20.935152",
     "exception": false,
     "start_time": "2022-12-16T08:13:20.891247",
     "status": "completed"
    },
    "tags": []
   },
   "outputs": [
    {
     "data": {
      "text/html": [
       "<div>\n",
       "<style scoped>\n",
       "    .dataframe tbody tr th:only-of-type {\n",
       "        vertical-align: middle;\n",
       "    }\n",
       "\n",
       "    .dataframe tbody tr th {\n",
       "        vertical-align: top;\n",
       "    }\n",
       "\n",
       "    .dataframe thead tr th {\n",
       "        text-align: left;\n",
       "    }\n",
       "\n",
       "    .dataframe thead tr:last-of-type th {\n",
       "        text-align: right;\n",
       "    }\n",
       "</style>\n",
       "<table border=\"1\" class=\"dataframe\">\n",
       "  <thead>\n",
       "    <tr>\n",
       "      <th></th>\n",
       "      <th colspan=\"6\" halign=\"left\">Id</th>\n",
       "    </tr>\n",
       "    <tr>\n",
       "      <th>%upvote</th>\n",
       "      <th>Empty</th>\n",
       "      <th>0-20%</th>\n",
       "      <th>20-40%</th>\n",
       "      <th>40-60%</th>\n",
       "      <th>60-80%</th>\n",
       "      <th>80-100%</th>\n",
       "    </tr>\n",
       "    <tr>\n",
       "      <th>Score</th>\n",
       "      <th></th>\n",
       "      <th></th>\n",
       "      <th></th>\n",
       "      <th></th>\n",
       "      <th></th>\n",
       "      <th></th>\n",
       "    </tr>\n",
       "  </thead>\n",
       "  <tbody>\n",
       "    <tr>\n",
       "      <th>1</th>\n",
       "      <td>8060</td>\n",
       "      <td>2338</td>\n",
       "      <td>4649</td>\n",
       "      <td>6586</td>\n",
       "      <td>5838</td>\n",
       "      <td>12531</td>\n",
       "    </tr>\n",
       "    <tr>\n",
       "      <th>2</th>\n",
       "      <td>4234</td>\n",
       "      <td>762</td>\n",
       "      <td>1618</td>\n",
       "      <td>3051</td>\n",
       "      <td>2486</td>\n",
       "      <td>7014</td>\n",
       "    </tr>\n",
       "    <tr>\n",
       "      <th>3</th>\n",
       "      <td>5062</td>\n",
       "      <td>474</td>\n",
       "      <td>1506</td>\n",
       "      <td>3384</td>\n",
       "      <td>2754</td>\n",
       "      <td>11037</td>\n",
       "    </tr>\n",
       "    <tr>\n",
       "      <th>4</th>\n",
       "      <td>4780</td>\n",
       "      <td>116</td>\n",
       "      <td>909</td>\n",
       "      <td>3185</td>\n",
       "      <td>2941</td>\n",
       "      <td>26707</td>\n",
       "    </tr>\n",
       "    <tr>\n",
       "      <th>5</th>\n",
       "      <td>11638</td>\n",
       "      <td>432</td>\n",
       "      <td>2275</td>\n",
       "      <td>10312</td>\n",
       "      <td>11060</td>\n",
       "      <td>140661</td>\n",
       "    </tr>\n",
       "  </tbody>\n",
       "</table>\n",
       "</div>"
      ],
      "text/plain": [
       "            Id                                   \n",
       "%upvote  Empty 0-20% 20-40% 40-60% 60-80% 80-100%\n",
       "Score                                            \n",
       "1         8060  2338   4649   6586   5838   12531\n",
       "2         4234   762   1618   3051   2486    7014\n",
       "3         5062   474   1506   3384   2754   11037\n",
       "4         4780   116    909   3185   2941   26707\n",
       "5        11638   432   2275  10312  11060  140661"
      ]
     },
     "execution_count": 12,
     "metadata": {},
     "output_type": "execute_result"
    }
   ],
   "source": [
    "pivot=df_s.pivot(index='Score',columns='%upvote')\n",
    "pivot"
   ]
  },
  {
   "cell_type": "code",
   "execution_count": 13,
   "id": "adc47756",
   "metadata": {
    "execution": {
     "iopub.execute_input": "2022-12-16T08:13:20.976730Z",
     "iopub.status.busy": "2022-12-16T08:13:20.975747Z",
     "iopub.status.idle": "2022-12-16T08:13:22.100021Z",
     "shell.execute_reply": "2022-12-16T08:13:22.098892Z"
    },
    "papermill": {
     "duration": 1.148113,
     "end_time": "2022-12-16T08:13:22.102868",
     "exception": false,
     "start_time": "2022-12-16T08:13:20.954755",
     "status": "completed"
    },
    "tags": []
   },
   "outputs": [],
   "source": [
    "#data visualization module\n",
    "import seaborn as sns"
   ]
  },
  {
   "cell_type": "code",
   "execution_count": 14,
   "id": "07469d80",
   "metadata": {
    "execution": {
     "iopub.execute_input": "2022-12-16T08:13:22.145359Z",
     "iopub.status.busy": "2022-12-16T08:13:22.144959Z",
     "iopub.status.idle": "2022-12-16T08:13:22.614180Z",
     "shell.execute_reply": "2022-12-16T08:13:22.612988Z"
    },
    "papermill": {
     "duration": 0.493629,
     "end_time": "2022-12-16T08:13:22.616663",
     "exception": false,
     "start_time": "2022-12-16T08:13:22.123034",
     "status": "completed"
    },
    "tags": []
   },
   "outputs": [
    {
     "data": {
      "text/plain": [
       "<AxesSubplot:xlabel='None-%upvote', ylabel='Score'>"
      ]
     },
     "execution_count": 14,
     "metadata": {},
     "output_type": "execute_result"
    },
    {
     "data": {
      "image/png": "[encoded data removed]",
      "text/plain": [
       "<Figure size 432x288 with 2 Axes>"
      ]
     },
     "metadata": {
      "needs_background": "light"
     },
     "output_type": "display_data"
    }
   ],
   "source": [
    "sns.heatmap(pivot,annot=True,cmap='YlGnBu')"
   ]
  },
  {
   "cell_type": "code",
   "execution_count": 15,
   "id": "e9216d66",
   "metadata": {
    "execution": {
     "iopub.execute_input": "2022-12-16T08:13:22.660518Z",
     "iopub.status.busy": "2022-12-16T08:13:22.659777Z",
     "iopub.status.idle": "2022-12-16T08:13:22.664351Z",
     "shell.execute_reply": "2022-12-16T08:13:22.663312Z"
    },
    "papermill": {
     "duration": 0.029558,
     "end_time": "2022-12-16T08:13:22.666689",
     "exception": false,
     "start_time": "2022-12-16T08:13:22.637131",
     "status": "completed"
    },
    "tags": []
   },
   "outputs": [],
   "source": [
    "# Nlp to convert text to integer format ,Apply bag of words\n",
    "# 1.apply bag of words on data \n",
    "# 2.check model accuracy\n",
    "# 3.fetch 20 positive and negative words"
   ]
  },
  {
   "cell_type": "code",
   "execution_count": 16,
   "id": "af548afa",
   "metadata": {
    "execution": {
     "iopub.execute_input": "2022-12-16T08:13:22.709812Z",
     "iopub.status.busy": "2022-12-16T08:13:22.709407Z",
     "iopub.status.idle": "2022-12-16T08:13:22.720825Z",
     "shell.execute_reply": "2022-12-16T08:13:22.719878Z"
    },
    "papermill": {
     "duration": 0.035638,
     "end_time": "2022-12-16T08:13:22.723025",
     "exception": false,
     "start_time": "2022-12-16T08:13:22.687387",
     "status": "completed"
    },
    "tags": []
   },
   "outputs": [
    {
     "data": {
      "text/plain": [
       "array([5, 1, 4, 2, 3])"
      ]
     },
     "execution_count": 16,
     "metadata": {},
     "output_type": "execute_result"
    }
   ],
   "source": [
    "df['Score'].unique()"
   ]
  },
  {
   "cell_type": "code",
   "execution_count": 17,
   "id": "f3be4f0f",
   "metadata": {
    "execution": {
     "iopub.execute_input": "2022-12-16T08:13:22.767633Z",
     "iopub.status.busy": "2022-12-16T08:13:22.767190Z",
     "iopub.status.idle": "2022-12-16T08:13:22.856749Z",
     "shell.execute_reply": "2022-12-16T08:13:22.855317Z"
    },
    "papermill": {
     "duration": 0.11567,
     "end_time": "2022-12-16T08:13:22.859364",
     "exception": false,
     "start_time": "2022-12-16T08:13:22.743694",
     "status": "completed"
    },
    "tags": []
   },
   "outputs": [],
   "source": [
    "# filter ko apply kro in data frame to select rows\n",
    "df2=df[df['Score']!=3]"
   ]
  },
  {
   "cell_type": "code",
   "execution_count": 18,
   "id": "f3febd76",
   "metadata": {
    "execution": {
     "iopub.execute_input": "2022-12-16T08:13:22.902631Z",
     "iopub.status.busy": "2022-12-16T08:13:22.902214Z",
     "iopub.status.idle": "2022-12-16T08:13:22.908067Z",
     "shell.execute_reply": "2022-12-16T08:13:22.906959Z"
    },
    "papermill": {
     "duration": 0.030643,
     "end_time": "2022-12-16T08:13:22.910409",
     "exception": false,
     "start_time": "2022-12-16T08:13:22.879766",
     "status": "completed"
    },
    "tags": []
   },
   "outputs": [],
   "source": [
    "# all dependent in y variable ,all independent in x variable\n",
    "x=df2['Text']\n",
    "y=df2['Score']"
   ]
  },
  {
   "cell_type": "code",
   "execution_count": 19,
   "id": "de18257a",
   "metadata": {
    "execution": {
     "iopub.execute_input": "2022-12-16T08:13:22.952743Z",
     "iopub.status.busy": "2022-12-16T08:13:22.952327Z",
     "iopub.status.idle": "2022-12-16T08:13:22.962388Z",
     "shell.execute_reply": "2022-12-16T08:13:22.961303Z"
    },
    "papermill": {
     "duration": 0.033914,
     "end_time": "2022-12-16T08:13:22.964671",
     "exception": false,
     "start_time": "2022-12-16T08:13:22.930757",
     "status": "completed"
    },
    "tags": []
   },
   "outputs": [
    {
     "data": {
      "text/plain": [
       "array([5, 1, 4, 2])"
      ]
     },
     "execution_count": 19,
     "metadata": {},
     "output_type": "execute_result"
    }
   ],
   "source": [
    "y.unique()"
   ]
  },
  {
   "cell_type": "code",
   "execution_count": 20,
   "id": "a6b2f0ae",
   "metadata": {
    "execution": {
     "iopub.execute_input": "2022-12-16T08:13:23.007853Z",
     "iopub.status.busy": "2022-12-16T08:13:23.007030Z",
     "iopub.status.idle": "2022-12-16T08:13:23.011942Z",
     "shell.execute_reply": "2022-12-16T08:13:23.010969Z"
    },
    "papermill": {
     "duration": 0.029085,
     "end_time": "2022-12-16T08:13:23.014353",
     "exception": false,
     "start_time": "2022-12-16T08:13:22.985268",
     "status": "completed"
    },
    "tags": []
   },
   "outputs": [],
   "source": [
    "# mapping 5 and 4 with 1 and 1 and 2 with 0\n",
    "# to convert my problem into some classification problem"
   ]
  },
  {
   "cell_type": "code",
   "execution_count": 21,
   "id": "c54cb64b",
   "metadata": {
    "execution": {
     "iopub.execute_input": "2022-12-16T08:13:23.058083Z",
     "iopub.status.busy": "2022-12-16T08:13:23.057335Z",
     "iopub.status.idle": "2022-12-16T08:13:23.062763Z",
     "shell.execute_reply": "2022-12-16T08:13:23.061935Z"
    },
    "papermill": {
     "duration": 0.029895,
     "end_time": "2022-12-16T08:13:23.065053",
     "exception": false,
     "start_time": "2022-12-16T08:13:23.035158",
     "status": "completed"
    },
    "tags": []
   },
   "outputs": [],
   "source": [
    "# 1.make dictionary\n",
    "# 2.map it with column\n",
    "y_dict={5:1,4:1,2:0,1:0}"
   ]
  },
  {
   "cell_type": "code",
   "execution_count": 22,
   "id": "9940861d",
   "metadata": {
    "execution": {
     "iopub.execute_input": "2022-12-16T08:13:23.108993Z",
     "iopub.status.busy": "2022-12-16T08:13:23.108306Z",
     "iopub.status.idle": "2022-12-16T08:13:23.124833Z",
     "shell.execute_reply": "2022-12-16T08:13:23.123602Z"
    },
    "papermill": {
     "duration": 0.041756,
     "end_time": "2022-12-16T08:13:23.127190",
     "exception": false,
     "start_time": "2022-12-16T08:13:23.085434",
     "status": "completed"
    },
    "tags": []
   },
   "outputs": [
    {
     "data": {
      "text/plain": [
       "(525814,)"
      ]
     },
     "execution_count": 22,
     "metadata": {},
     "output_type": "execute_result"
    }
   ],
   "source": [
    "y=df2['Score'].map(y_dict)\n",
    "y.shape"
   ]
  },
  {
   "cell_type": "code",
   "execution_count": 23,
   "id": "0f5efba3",
   "metadata": {
    "execution": {
     "iopub.execute_input": "2022-12-16T08:13:23.172110Z",
     "iopub.status.busy": "2022-12-16T08:13:23.171007Z",
     "iopub.status.idle": "2022-12-16T08:13:23.176356Z",
     "shell.execute_reply": "2022-12-16T08:13:23.175300Z"
    },
    "papermill": {
     "duration": 0.030402,
     "end_time": "2022-12-16T08:13:23.178616",
     "exception": false,
     "start_time": "2022-12-16T08:13:23.148214",
     "status": "completed"
    },
    "tags": []
   },
   "outputs": [],
   "source": [
    "#now converting text into some vector using nlp"
   ]
  },
  {
   "cell_type": "code",
   "execution_count": 24,
   "id": "ebd926c2",
   "metadata": {
    "execution": {
     "iopub.execute_input": "2022-12-16T08:13:23.222286Z",
     "iopub.status.busy": "2022-12-16T08:13:23.221852Z",
     "iopub.status.idle": "2022-12-16T08:13:23.383316Z",
     "shell.execute_reply": "2022-12-16T08:13:23.382105Z"
    },
    "papermill": {
     "duration": 0.186773,
     "end_time": "2022-12-16T08:13:23.386042",
     "exception": false,
     "start_time": "2022-12-16T08:13:23.199269",
     "status": "completed"
    },
    "tags": []
   },
   "outputs": [],
   "source": [
    "from sklearn.feature_extraction.text import CountVectorizer\n",
    "# make object \n",
    "c=CountVectorizer(stop_words='english')"
   ]
  },
  {
   "cell_type": "code",
   "execution_count": 25,
   "id": "198fa8af",
   "metadata": {
    "execution": {
     "iopub.execute_input": "2022-12-16T08:13:23.429576Z",
     "iopub.status.busy": "2022-12-16T08:13:23.428881Z",
     "iopub.status.idle": "2022-12-16T08:13:53.867228Z",
     "shell.execute_reply": "2022-12-16T08:13:53.864889Z"
    },
    "papermill": {
     "duration": 30.464351,
     "end_time": "2022-12-16T08:13:53.870857",
     "exception": false,
     "start_time": "2022-12-16T08:13:23.406506",
     "status": "completed"
    },
    "tags": []
   },
   "outputs": [],
   "source": [
    "x_c=c.fit_transform(x)\n",
    "# give frequency matrix"
   ]
  },
  {
   "cell_type": "code",
   "execution_count": 26,
   "id": "664a12e8",
   "metadata": {
    "execution": {
     "iopub.execute_input": "2022-12-16T08:13:53.920623Z",
     "iopub.status.busy": "2022-12-16T08:13:53.920129Z",
     "iopub.status.idle": "2022-12-16T08:13:53.928819Z",
     "shell.execute_reply": "2022-12-16T08:13:53.927318Z"
    },
    "papermill": {
     "duration": 0.037625,
     "end_time": "2022-12-16T08:13:53.932577",
     "exception": false,
     "start_time": "2022-12-16T08:13:53.894952",
     "status": "completed"
    },
    "tags": []
   },
   "outputs": [
    {
     "data": {
      "text/plain": [
       "114969"
      ]
     },
     "execution_count": 26,
     "metadata": {},
     "output_type": "execute_result"
    }
   ],
   "source": [
    "# x_c.shape\n",
    "x_c.shape[1]\n",
    "# 114969 are number of features+ (6 or 7) new earlier features"
   ]
  },
  {
   "cell_type": "code",
   "execution_count": 27,
   "id": "642ed7e6",
   "metadata": {
    "execution": {
     "iopub.execute_input": "2022-12-16T08:13:53.982058Z",
     "iopub.status.busy": "2022-12-16T08:13:53.981598Z",
     "iopub.status.idle": "2022-12-16T08:13:53.987793Z",
     "shell.execute_reply": "2022-12-16T08:13:53.985938Z"
    },
    "papermill": {
     "duration": 0.033499,
     "end_time": "2022-12-16T08:13:53.990599",
     "exception": false,
     "start_time": "2022-12-16T08:13:53.957100",
     "status": "completed"
    },
    "tags": []
   },
   "outputs": [],
   "source": [
    "# making new machine learning model\n",
    "# first split the data"
   ]
  },
  {
   "cell_type": "code",
   "execution_count": 28,
   "id": "216226c3",
   "metadata": {
    "execution": {
     "iopub.execute_input": "2022-12-16T08:13:54.038376Z",
     "iopub.status.busy": "2022-12-16T08:13:54.037966Z",
     "iopub.status.idle": "2022-12-16T08:13:54.301055Z",
     "shell.execute_reply": "2022-12-16T08:13:54.299717Z"
    },
    "papermill": {
     "duration": 0.28941,
     "end_time": "2022-12-16T08:13:54.304039",
     "exception": false,
     "start_time": "2022-12-16T08:13:54.014629",
     "status": "completed"
    },
    "tags": []
   },
   "outputs": [],
   "source": [
    "from sklearn.model_selection import train_test_split\n",
    "x_train,x_test,y_train,y_test= train_test_split(x_c,y)"
   ]
  },
  {
   "cell_type": "code",
   "execution_count": 29,
   "id": "8a082156",
   "metadata": {
    "execution": {
     "iopub.execute_input": "2022-12-16T08:13:54.350320Z",
     "iopub.status.busy": "2022-12-16T08:13:54.349868Z",
     "iopub.status.idle": "2022-12-16T08:13:54.357646Z",
     "shell.execute_reply": "2022-12-16T08:13:54.356376Z"
    },
    "papermill": {
     "duration": 0.033374,
     "end_time": "2022-12-16T08:13:54.360175",
     "exception": false,
     "start_time": "2022-12-16T08:13:54.326801",
     "status": "completed"
    },
    "tags": []
   },
   "outputs": [
    {
     "data": {
      "text/plain": [
       "(394360, 114969)"
      ]
     },
     "execution_count": 29,
     "metadata": {},
     "output_type": "execute_result"
    }
   ],
   "source": [
    "x_train.shape"
   ]
  },
  {
   "cell_type": "code",
   "execution_count": 30,
   "id": "45a160fe",
   "metadata": {
    "execution": {
     "iopub.execute_input": "2022-12-16T08:13:54.403944Z",
     "iopub.status.busy": "2022-12-16T08:13:54.403520Z",
     "iopub.status.idle": "2022-12-16T08:13:54.408016Z",
     "shell.execute_reply": "2022-12-16T08:13:54.406792Z"
    },
    "papermill": {
     "duration": 0.028698,
     "end_time": "2022-12-16T08:13:54.410191",
     "exception": false,
     "start_time": "2022-12-16T08:13:54.381493",
     "status": "completed"
    },
    "tags": []
   },
   "outputs": [],
   "source": [
    "# model selection"
   ]
  },
  {
   "cell_type": "code",
   "execution_count": 31,
   "id": "470e8bd0",
   "metadata": {
    "execution": {
     "iopub.execute_input": "2022-12-16T08:13:54.453775Z",
     "iopub.status.busy": "2022-12-16T08:13:54.453065Z",
     "iopub.status.idle": "2022-12-16T08:13:54.533839Z",
     "shell.execute_reply": "2022-12-16T08:13:54.532277Z"
    },
    "papermill": {
     "duration": 0.10661,
     "end_time": "2022-12-16T08:13:54.537117",
     "exception": false,
     "start_time": "2022-12-16T08:13:54.430507",
     "status": "completed"
    },
    "tags": []
   },
   "outputs": [],
   "source": [
    "from sklearn.linear_model import LogisticRegression"
   ]
  },
  {
   "cell_type": "code",
   "execution_count": 32,
   "id": "47ee8de9",
   "metadata": {
    "execution": {
     "iopub.execute_input": "2022-12-16T08:13:54.586507Z",
     "iopub.status.busy": "2022-12-16T08:13:54.585301Z",
     "iopub.status.idle": "2022-12-16T08:13:54.592573Z",
     "shell.execute_reply": "2022-12-16T08:13:54.591191Z"
    },
    "papermill": {
     "duration": 0.035603,
     "end_time": "2022-12-16T08:13:54.596413",
     "exception": false,
     "start_time": "2022-12-16T08:13:54.560810",
     "status": "completed"
    },
    "tags": []
   },
   "outputs": [],
   "source": [
    "# make object\n",
    "log= LogisticRegression()"
   ]
  },
  {
   "cell_type": "code",
   "execution_count": 33,
   "id": "e7aacda6",
   "metadata": {
    "execution": {
     "iopub.execute_input": "2022-12-16T08:13:54.647568Z",
     "iopub.status.busy": "2022-12-16T08:13:54.646662Z",
     "iopub.status.idle": "2022-12-16T08:14:15.394823Z",
     "shell.execute_reply": "2022-12-16T08:14:15.393509Z"
    },
    "papermill": {
     "duration": 20.778073,
     "end_time": "2022-12-16T08:14:15.398385",
     "exception": false,
     "start_time": "2022-12-16T08:13:54.620312",
     "status": "completed"
    },
    "tags": []
   },
   "outputs": [
    {
     "name": "stderr",
     "output_type": "stream",
     "text": [
      "/opt/conda/lib/python3.7/site-packages/sklearn/linear_model/_logistic.py:818: ConvergenceWarning: lbfgs failed to converge (status=1):\n",
      "STOP: TOTAL NO. of ITERATIONS REACHED LIMIT.\n",
      "\n",
      "Increase the number of iterations (max_iter) or scale the data as shown in:\n",
      "    https://scikit-learn.org/stable/modules/preprocessing.html\n",
      "Please also refer to the documentation for alternative solver options:\n",
      "    https://scikit-learn.org/stable/modules/linear_model.html#logistic-regression\n",
      "  extra_warning_msg=_LOGISTIC_SOLVER_CONVERGENCE_MSG,\n"
     ]
    }
   ],
   "source": [
    "# final step to fit,this will store all the relationship we need\n",
    "model=log.fit(x_train,y_train)"
   ]
  },
  {
   "cell_type": "code",
   "execution_count": 34,
   "id": "b6864300",
   "metadata": {
    "execution": {
     "iopub.execute_input": "2022-12-16T08:14:15.472275Z",
     "iopub.status.busy": "2022-12-16T08:14:15.471728Z",
     "iopub.status.idle": "2022-12-16T08:14:15.530350Z",
     "shell.execute_reply": "2022-12-16T08:14:15.529466Z"
    },
    "papermill": {
     "duration": 0.096429,
     "end_time": "2022-12-16T08:14:15.532783",
     "exception": false,
     "start_time": "2022-12-16T08:14:15.436354",
     "status": "completed"
    },
    "tags": []
   },
   "outputs": [
    {
     "data": {
      "text/plain": [
       "0.9363503583002419"
      ]
     },
     "execution_count": 34,
     "metadata": {},
     "output_type": "execute_result"
    }
   ],
   "source": [
    "model.score(x_test,y_test)"
   ]
  },
  {
   "cell_type": "code",
   "execution_count": 35,
   "id": "7d997a97",
   "metadata": {
    "execution": {
     "iopub.execute_input": "2022-12-16T08:14:15.576938Z",
     "iopub.status.busy": "2022-12-16T08:14:15.576062Z",
     "iopub.status.idle": "2022-12-16T08:14:15.580422Z",
     "shell.execute_reply": "2022-12-16T08:14:15.579326Z"
    },
    "papermill": {
     "duration": 0.02854,
     "end_time": "2022-12-16T08:14:15.582661",
     "exception": false,
     "start_time": "2022-12-16T08:14:15.554121",
     "status": "completed"
    },
    "tags": []
   },
   "outputs": [],
   "source": [
    "#fetch 20 positive and 20 negative words"
   ]
  },
  {
   "cell_type": "code",
   "execution_count": 36,
   "id": "6c48ec71",
   "metadata": {
    "execution": {
     "iopub.execute_input": "2022-12-16T08:14:15.626706Z",
     "iopub.status.busy": "2022-12-16T08:14:15.626108Z",
     "iopub.status.idle": "2022-12-16T08:14:15.754076Z",
     "shell.execute_reply": "2022-12-16T08:14:15.752967Z"
    },
    "papermill": {
     "duration": 0.153163,
     "end_time": "2022-12-16T08:14:15.756643",
     "exception": false,
     "start_time": "2022-12-16T08:14:15.603480",
     "status": "completed"
    },
    "tags": []
   },
   "outputs": [
    {
     "name": "stderr",
     "output_type": "stream",
     "text": [
      "/opt/conda/lib/python3.7/site-packages/sklearn/utils/deprecation.py:87: FutureWarning: Function get_feature_names is deprecated; get_feature_names is deprecated in 1.0 and will be removed in 1.2. Please use get_feature_names_out instead.\n",
      "  warnings.warn(msg, category=FutureWarning)\n"
     ]
    }
   ],
   "source": [
    "w= c.get_feature_names()\n",
    "# w"
   ]
  },
  {
   "cell_type": "code",
   "execution_count": 37,
   "id": "36f1b864",
   "metadata": {
    "execution": {
     "iopub.execute_input": "2022-12-16T08:14:15.800699Z",
     "iopub.status.busy": "2022-12-16T08:14:15.800301Z",
     "iopub.status.idle": "2022-12-16T08:14:15.809063Z",
     "shell.execute_reply": "2022-12-16T08:14:15.807963Z"
    },
    "papermill": {
     "duration": 0.033784,
     "end_time": "2022-12-16T08:14:15.811322",
     "exception": false,
     "start_time": "2022-12-16T08:14:15.777538",
     "status": "completed"
    },
    "tags": []
   },
   "outputs": [],
   "source": [
    "coef= model.coef_.tolist()[0]\n",
    "# coef"
   ]
  },
  {
   "cell_type": "code",
   "execution_count": 38,
   "id": "6e0b3ea4",
   "metadata": {
    "execution": {
     "iopub.execute_input": "2022-12-16T08:14:15.855225Z",
     "iopub.status.busy": "2022-12-16T08:14:15.854807Z",
     "iopub.status.idle": "2022-12-16T08:14:15.859462Z",
     "shell.execute_reply": "2022-12-16T08:14:15.858378Z"
    },
    "papermill": {
     "duration": 0.029776,
     "end_time": "2022-12-16T08:14:15.861958",
     "exception": false,
     "start_time": "2022-12-16T08:14:15.832182",
     "status": "completed"
    },
    "tags": []
   },
   "outputs": [],
   "source": [
    "# creating dataframe ,dictionary me assign col and give the col data)"
   ]
  },
  {
   "cell_type": "code",
   "execution_count": 39,
   "id": "7059c4d2",
   "metadata": {
    "execution": {
     "iopub.execute_input": "2022-12-16T08:14:15.905796Z",
     "iopub.status.busy": "2022-12-16T08:14:15.905404Z",
     "iopub.status.idle": "2022-12-16T08:14:15.947690Z",
     "shell.execute_reply": "2022-12-16T08:14:15.946320Z"
    },
    "papermill": {
     "duration": 0.067537,
     "end_time": "2022-12-16T08:14:15.950711",
     "exception": false,
     "start_time": "2022-12-16T08:14:15.883174",
     "status": "completed"
    },
    "tags": []
   },
   "outputs": [],
   "source": [
    "coef_df= pd.DataFrame({'Word':w, 'Coefficient':coef})\n",
    "# coef_df"
   ]
  },
  {
   "cell_type": "code",
   "execution_count": 40,
   "id": "287f51ac",
   "metadata": {
    "execution": {
     "iopub.execute_input": "2022-12-16T08:14:15.995222Z",
     "iopub.status.busy": "2022-12-16T08:14:15.994109Z",
     "iopub.status.idle": "2022-12-16T08:14:16.269431Z",
     "shell.execute_reply": "2022-12-16T08:14:16.268200Z"
    },
    "papermill": {
     "duration": 0.300234,
     "end_time": "2022-12-16T08:14:16.272072",
     "exception": false,
     "start_time": "2022-12-16T08:14:15.971838",
     "status": "completed"
    },
    "tags": []
   },
   "outputs": [],
   "source": [
    "coef_df=coef_df.sort_values(['Coefficient','Word'],ascending=False)\n",
    "# coef_df.head(20)"
   ]
  },
  {
   "cell_type": "code",
   "execution_count": 41,
   "id": "e328ef2b",
   "metadata": {
    "execution": {
     "iopub.execute_input": "2022-12-16T08:14:16.317116Z",
     "iopub.status.busy": "2022-12-16T08:14:16.315874Z",
     "iopub.status.idle": "2022-12-16T08:14:16.321725Z",
     "shell.execute_reply": "2022-12-16T08:14:16.320756Z"
    },
    "papermill": {
     "duration": 0.030929,
     "end_time": "2022-12-16T08:14:16.324194",
     "exception": false,
     "start_time": "2022-12-16T08:14:16.293265",
     "status": "completed"
    },
    "tags": []
   },
   "outputs": [],
   "source": [
    "# coef_df.tail(20)"
   ]
  },
  {
   "cell_type": "code",
   "execution_count": 42,
   "id": "3aa7189a",
   "metadata": {
    "execution": {
     "iopub.execute_input": "2022-12-16T08:14:16.369750Z",
     "iopub.status.busy": "2022-12-16T08:14:16.368732Z",
     "iopub.status.idle": "2022-12-16T08:14:16.374412Z",
     "shell.execute_reply": "2022-12-16T08:14:16.372811Z"
    },
    "papermill": {
     "duration": 0.030992,
     "end_time": "2022-12-16T08:14:16.377115",
     "exception": false,
     "start_time": "2022-12-16T08:14:16.346123",
     "status": "completed"
    },
    "tags": []
   },
   "outputs": [],
   "source": [
    "# automate the whole process"
   ]
  },
  {
   "cell_type": "code",
   "execution_count": 43,
   "id": "b1f29f0d",
   "metadata": {
    "execution": {
     "iopub.execute_input": "2022-12-16T08:14:16.422543Z",
     "iopub.status.busy": "2022-12-16T08:14:16.422131Z",
     "iopub.status.idle": "2022-12-16T08:14:16.430433Z",
     "shell.execute_reply": "2022-12-16T08:14:16.429246Z"
    },
    "papermill": {
     "duration": 0.033584,
     "end_time": "2022-12-16T08:14:16.432889",
     "exception": false,
     "start_time": "2022-12-16T08:14:16.399305",
     "status": "completed"
    },
    "tags": []
   },
   "outputs": [],
   "source": [
    "def my_model(x,y,model,nlp,condition):\n",
    "    x_c=nlp.fit_transform(x)\n",
    "    x_train,x_test,y_train,y_test= train_test_split(x_c,y)\n",
    "    model.fit(x_train,y_train)\n",
    "    scoree=model.score(x_test,y_test)\n",
    "    print(f\"The accuracy of model is: {scoree}\")\n",
    "    \n",
    "    if condition==1:\n",
    "        w= nlp.get_feature_names()\n",
    "        coef= model.coef_.tolist()[0]\n",
    "        coef_df= pd.DataFrame({'Word':w, 'Coefficient':coef})\n",
    "        coef_df=coef_df.sort_values(['Coefficient','Word'],ascending=False)\n",
    "        print(f\"\\nTop 20 positive words are:\\n{coef_df.head(20)}\")\n",
    "        print(f\"Top 20 negative words are:\\n{coef_df.tail(20)}\")\n",
    "\n",
    "    "
   ]
  },
  {
   "cell_type": "code",
   "execution_count": 44,
   "id": "e4ae8ea3",
   "metadata": {
    "execution": {
     "iopub.execute_input": "2022-12-16T08:14:16.477874Z",
     "iopub.status.busy": "2022-12-16T08:14:16.477467Z",
     "iopub.status.idle": "2022-12-16T08:15:08.349775Z",
     "shell.execute_reply": "2022-12-16T08:15:08.348534Z"
    },
    "papermill": {
     "duration": 51.896982,
     "end_time": "2022-12-16T08:15:08.352253",
     "exception": false,
     "start_time": "2022-12-16T08:14:16.455271",
     "status": "completed"
    },
    "tags": []
   },
   "outputs": [
    {
     "name": "stderr",
     "output_type": "stream",
     "text": [
      "/opt/conda/lib/python3.7/site-packages/sklearn/linear_model/_logistic.py:818: ConvergenceWarning: lbfgs failed to converge (status=1):\n",
      "STOP: TOTAL NO. of ITERATIONS REACHED LIMIT.\n",
      "\n",
      "Increase the number of iterations (max_iter) or scale the data as shown in:\n",
      "    https://scikit-learn.org/stable/modules/preprocessing.html\n",
      "Please also refer to the documentation for alternative solver options:\n",
      "    https://scikit-learn.org/stable/modules/linear_model.html#logistic-regression\n",
      "  extra_warning_msg=_LOGISTIC_SOLVER_CONVERGENCE_MSG,\n",
      "/opt/conda/lib/python3.7/site-packages/sklearn/utils/deprecation.py:87: FutureWarning: Function get_feature_names is deprecated; get_feature_names is deprecated in 1.0 and will be removed in 1.2. Please use get_feature_names_out instead.\n",
      "  warnings.warn(msg, category=FutureWarning)\n"
     ]
    },
    {
     "name": "stdout",
     "output_type": "stream",
     "text": [
      "The accuracy of model is: 0.9360460693474524\n",
      "\n",
      "Top 20 positive words are:\n",
      "              Word  Coefficient\n",
      "80600   pleasantly     4.150522\n",
      "39072     downside     3.026986\n",
      "5865     addicting     3.026786\n",
      "94667    skeptical     2.817602\n",
      "113138     worries     2.453862\n",
      "87967       resist     2.432598\n",
      "40342   economical     2.409727\n",
      "35726       delish     2.386363\n",
      "39214     drawback     2.246878\n",
      "78641        penny     2.239156\n",
      "38394       divine     2.235984\n",
      "40135      easiest     2.221985\n",
      "105162     trainer     2.188195\n",
      "103080    thankful     2.183907\n",
      "111911        whim     2.178857\n",
      "55029       hooked     2.174076\n",
      "54130     hesitant     2.141260\n",
      "35691    delighted     2.098123\n",
      "35641    delicious     2.072458\n",
      "96353     soothing     2.069789\n",
      "Top 20 negative words are:\n",
      "                  Word  Coefficient\n",
      "89868            ruins    -2.442713\n",
      "106894     unappealing    -2.541711\n",
      "65064            lousy    -2.547421\n",
      "50059          glowing    -2.550556\n",
      "37563   disappointment    -2.563113\n",
      "62401           lacked    -2.575636\n",
      "21288            blech    -2.584092\n",
      "37528      disapointed    -2.682598\n",
      "110404         vomited    -2.793972\n",
      "76576       overpowers    -2.893560\n",
      "67898         mediocre    -2.996899\n",
      "88945           ripoff    -3.046408\n",
      "41118      embarrassed    -3.088927\n",
      "113164           worst    -3.199738\n",
      "37560    disappointing    -3.200532\n",
      "24949        cancelled    -3.240056\n",
      "106852    unacceptable    -3.269471\n",
      "88351       returnable    -3.326235\n",
      "34989        deceptive    -3.858403\n",
      "107383     undrinkable    -4.088087\n"
     ]
    }
   ],
   "source": [
    "from sklearn.feature_extraction.text import CountVectorizer\n",
    "from sklearn.model_selection import train_test_split\n",
    "from sklearn.linear_model import LogisticRegression\n",
    "\n",
    "my_model(x,y,LogisticRegression(),CountVectorizer(stop_words='english'),1)"
   ]
  },
  {
   "cell_type": "code",
   "execution_count": 45,
   "id": "fd251894",
   "metadata": {
    "execution": {
     "iopub.execute_input": "2022-12-16T08:15:08.398996Z",
     "iopub.status.busy": "2022-12-16T08:15:08.398337Z",
     "iopub.status.idle": "2022-12-16T08:15:08.403368Z",
     "shell.execute_reply": "2022-12-16T08:15:08.402231Z"
    },
    "papermill": {
     "duration": 0.030469,
     "end_time": "2022-12-16T08:15:08.405780",
     "exception": false,
     "start_time": "2022-12-16T08:15:08.375311",
     "status": "completed"
    },
    "tags": []
   },
   "outputs": [],
   "source": [
    "#way of prediction,confusion matrix-automating it also"
   ]
  },
  {
   "cell_type": "code",
   "execution_count": 46,
   "id": "62fad5e8",
   "metadata": {
    "execution": {
     "iopub.execute_input": "2022-12-16T08:15:08.451546Z",
     "iopub.status.busy": "2022-12-16T08:15:08.450846Z",
     "iopub.status.idle": "2022-12-16T08:15:08.458129Z",
     "shell.execute_reply": "2022-12-16T08:15:08.456950Z"
    },
    "papermill": {
     "duration": 0.033502,
     "end_time": "2022-12-16T08:15:08.461057",
     "exception": false,
     "start_time": "2022-12-16T08:15:08.427555",
     "status": "completed"
    },
    "tags": []
   },
   "outputs": [],
   "source": [
    "from sklearn.metrics import confusion_matrix,accuracy_score\n",
    "\n",
    "def predict(x,y,model,nlp):\n",
    "    x_c=nlp.fit_transform(x)\n",
    "    x_train,x_test,y_train,y_test= train_test_split(x_c,y)\n",
    "    model.fit(x_train,y_train)\n",
    "    predictions= model.predict(x_test)\n",
    "    cm =confusion_matrix(predictions,y_test)\n",
    "    print(cm)\n",
    "    acc=accuracy_score(predictions,y_test)\n",
    "    print(acc)\n"
   ]
  },
  {
   "cell_type": "code",
   "execution_count": 47,
   "id": "dd4ca1fa",
   "metadata": {
    "execution": {
     "iopub.execute_input": "2022-12-16T08:15:08.506060Z",
     "iopub.status.busy": "2022-12-16T08:15:08.505621Z",
     "iopub.status.idle": "2022-12-16T08:15:08.516239Z",
     "shell.execute_reply": "2022-12-16T08:15:08.515027Z"
    },
    "papermill": {
     "duration": 0.035719,
     "end_time": "2022-12-16T08:15:08.518740",
     "exception": false,
     "start_time": "2022-12-16T08:15:08.483021",
     "status": "completed"
    },
    "tags": []
   },
   "outputs": [],
   "source": [
    "c=CountVectorizer()\n",
    "lr=LogisticRegression()"
   ]
  },
  {
   "cell_type": "code",
   "execution_count": 48,
   "id": "bcd8532e",
   "metadata": {
    "execution": {
     "iopub.execute_input": "2022-12-16T08:15:08.563701Z",
     "iopub.status.busy": "2022-12-16T08:15:08.563273Z",
     "iopub.status.idle": "2022-12-16T08:16:13.633145Z",
     "shell.execute_reply": "2022-12-16T08:16:13.631759Z"
    },
    "papermill": {
     "duration": 65.120571,
     "end_time": "2022-12-16T08:16:13.660543",
     "exception": false,
     "start_time": "2022-12-16T08:15:08.539972",
     "status": "completed"
    },
    "tags": []
   },
   "outputs": [
    {
     "name": "stdout",
     "output_type": "stream",
     "text": [
      "[[ 15184   2750]\n",
      " [  5347 108173]]\n",
      "0.9384043087315715\n"
     ]
    },
    {
     "name": "stderr",
     "output_type": "stream",
     "text": [
      "/opt/conda/lib/python3.7/site-packages/sklearn/linear_model/_logistic.py:818: ConvergenceWarning: lbfgs failed to converge (status=1):\n",
      "STOP: TOTAL NO. of ITERATIONS REACHED LIMIT.\n",
      "\n",
      "Increase the number of iterations (max_iter) or scale the data as shown in:\n",
      "    https://scikit-learn.org/stable/modules/preprocessing.html\n",
      "Please also refer to the documentation for alternative solver options:\n",
      "    https://scikit-learn.org/stable/modules/linear_model.html#logistic-regression\n",
      "  extra_warning_msg=_LOGISTIC_SOLVER_CONVERGENCE_MSG,\n"
     ]
    }
   ],
   "source": [
    "predict(x,y,lr,c)"
   ]
  },
  {
   "cell_type": "code",
   "execution_count": 49,
   "id": "459fedd5",
   "metadata": {
    "execution": {
     "iopub.execute_input": "2022-12-16T08:16:13.706553Z",
     "iopub.status.busy": "2022-12-16T08:16:13.706177Z",
     "iopub.status.idle": "2022-12-16T08:16:13.711284Z",
     "shell.execute_reply": "2022-12-16T08:16:13.709867Z"
    },
    "papermill": {
     "duration": 0.030315,
     "end_time": "2022-12-16T08:16:13.713879",
     "exception": false,
     "start_time": "2022-12-16T08:16:13.683564",
     "status": "completed"
    },
    "tags": []
   },
   "outputs": [],
   "source": [
    "# apply more techniques of NLP and Machine Learning"
   ]
  },
  {
   "cell_type": "code",
   "execution_count": 50,
   "id": "5c28f259",
   "metadata": {
    "execution": {
     "iopub.execute_input": "2022-12-16T08:16:13.760717Z",
     "iopub.status.busy": "2022-12-16T08:16:13.760325Z",
     "iopub.status.idle": "2022-12-16T08:16:13.765683Z",
     "shell.execute_reply": "2022-12-16T08:16:13.764306Z"
    },
    "papermill": {
     "duration": 0.031477,
     "end_time": "2022-12-16T08:16:13.768275",
     "exception": false,
     "start_time": "2022-12-16T08:16:13.736798",
     "status": "completed"
    },
    "tags": []
   },
   "outputs": [],
   "source": [
    "# using another ml model which dummy classifier"
   ]
  },
  {
   "cell_type": "code",
   "execution_count": 51,
   "id": "cff4eca1",
   "metadata": {
    "execution": {
     "iopub.execute_input": "2022-12-16T08:16:13.813819Z",
     "iopub.status.busy": "2022-12-16T08:16:13.813155Z",
     "iopub.status.idle": "2022-12-16T08:16:13.830689Z",
     "shell.execute_reply": "2022-12-16T08:16:13.829367Z"
    },
    "papermill": {
     "duration": 0.043568,
     "end_time": "2022-12-16T08:16:13.833462",
     "exception": false,
     "start_time": "2022-12-16T08:16:13.789894",
     "status": "completed"
    },
    "tags": []
   },
   "outputs": [],
   "source": [
    "from sklearn.dummy import DummyClassifier\n",
    "model=DummyClassifier()\n",
    "c=CountVectorizer()"
   ]
  },
  {
   "cell_type": "code",
   "execution_count": 52,
   "id": "c7f96691",
   "metadata": {
    "execution": {
     "iopub.execute_input": "2022-12-16T08:16:13.878762Z",
     "iopub.status.busy": "2022-12-16T08:16:13.877565Z",
     "iopub.status.idle": "2022-12-16T08:16:47.360011Z",
     "shell.execute_reply": "2022-12-16T08:16:47.358839Z"
    },
    "papermill": {
     "duration": 33.528531,
     "end_time": "2022-12-16T08:16:47.383415",
     "exception": false,
     "start_time": "2022-12-16T08:16:13.854884",
     "status": "completed"
    },
    "tags": []
   },
   "outputs": [
    {
     "name": "stdout",
     "output_type": "stream",
     "text": [
      "The accuracy of model is: 0.8441431983811828\n"
     ]
    }
   ],
   "source": [
    "my_model(x,y,model,c,0)"
   ]
  },
  {
   "cell_type": "code",
   "execution_count": 53,
   "id": "c77ae136",
   "metadata": {
    "execution": {
     "iopub.execute_input": "2022-12-16T08:16:47.428858Z",
     "iopub.status.busy": "2022-12-16T08:16:47.428439Z",
     "iopub.status.idle": "2022-12-16T08:16:47.433237Z",
     "shell.execute_reply": "2022-12-16T08:16:47.432219Z"
    },
    "papermill": {
     "duration": 0.029882,
     "end_time": "2022-12-16T08:16:47.435422",
     "exception": false,
     "start_time": "2022-12-16T08:16:47.405540",
     "status": "completed"
    },
    "tags": []
   },
   "outputs": [],
   "source": [
    "# using TF IDF"
   ]
  },
  {
   "cell_type": "code",
   "execution_count": 54,
   "id": "7454722a",
   "metadata": {
    "execution": {
     "iopub.execute_input": "2022-12-16T08:16:47.480442Z",
     "iopub.status.busy": "2022-12-16T08:16:47.479413Z",
     "iopub.status.idle": "2022-12-16T08:17:19.024701Z",
     "shell.execute_reply": "2022-12-16T08:17:19.023497Z"
    },
    "papermill": {
     "duration": 31.572107,
     "end_time": "2022-12-16T08:17:19.028913",
     "exception": false,
     "start_time": "2022-12-16T08:16:47.456806",
     "status": "completed"
    },
    "tags": []
   },
   "outputs": [],
   "source": [
    "from sklearn.feature_extraction.text import TfidfVectorizer\n",
    "tfidf= TfidfVectorizer(stop_words='english')\n",
    "x_c= tfidf.fit_transform(x)"
   ]
  },
  {
   "cell_type": "code",
   "execution_count": 55,
   "id": "b8016616",
   "metadata": {
    "execution": {
     "iopub.execute_input": "2022-12-16T08:17:19.078475Z",
     "iopub.status.busy": "2022-12-16T08:17:19.077695Z",
     "iopub.status.idle": "2022-12-16T08:18:11.884179Z",
     "shell.execute_reply": "2022-12-16T08:18:11.882495Z"
    },
    "papermill": {
     "duration": 52.868432,
     "end_time": "2022-12-16T08:18:11.921949",
     "exception": false,
     "start_time": "2022-12-16T08:17:19.053517",
     "status": "completed"
    },
    "tags": []
   },
   "outputs": [
    {
     "name": "stdout",
     "output_type": "stream",
     "text": [
      "The accuracy of model is: 0.9345854823740624\n"
     ]
    },
    {
     "name": "stderr",
     "output_type": "stream",
     "text": [
      "/opt/conda/lib/python3.7/site-packages/sklearn/linear_model/_logistic.py:818: ConvergenceWarning: lbfgs failed to converge (status=1):\n",
      "STOP: TOTAL NO. of ITERATIONS REACHED LIMIT.\n",
      "\n",
      "Increase the number of iterations (max_iter) or scale the data as shown in:\n",
      "    https://scikit-learn.org/stable/modules/preprocessing.html\n",
      "Please also refer to the documentation for alternative solver options:\n",
      "    https://scikit-learn.org/stable/modules/linear_model.html#logistic-regression\n",
      "  extra_warning_msg=_LOGISTIC_SOLVER_CONVERGENCE_MSG,\n"
     ]
    }
   ],
   "source": [
    "my_model(x,y,lr,tfidf,0)"
   ]
  },
  {
   "cell_type": "code",
   "execution_count": 56,
   "id": "9426a4ae",
   "metadata": {
    "execution": {
     "iopub.execute_input": "2022-12-16T08:18:11.969495Z",
     "iopub.status.busy": "2022-12-16T08:18:11.969088Z",
     "iopub.status.idle": "2022-12-16T08:19:15.766578Z",
     "shell.execute_reply": "2022-12-16T08:19:15.765299Z"
    },
    "papermill": {
     "duration": 63.849726,
     "end_time": "2022-12-16T08:19:15.796016",
     "exception": false,
     "start_time": "2022-12-16T08:18:11.946290",
     "status": "completed"
    },
    "tags": []
   },
   "outputs": [
    {
     "name": "stdout",
     "output_type": "stream",
     "text": [
      "[[ 15161   2724]\n",
      " [  5353 108216]]\n",
      "0.9385564532079663\n"
     ]
    },
    {
     "name": "stderr",
     "output_type": "stream",
     "text": [
      "/opt/conda/lib/python3.7/site-packages/sklearn/linear_model/_logistic.py:818: ConvergenceWarning: lbfgs failed to converge (status=1):\n",
      "STOP: TOTAL NO. of ITERATIONS REACHED LIMIT.\n",
      "\n",
      "Increase the number of iterations (max_iter) or scale the data as shown in:\n",
      "    https://scikit-learn.org/stable/modules/preprocessing.html\n",
      "Please also refer to the documentation for alternative solver options:\n",
      "    https://scikit-learn.org/stable/modules/linear_model.html#logistic-regression\n",
      "  extra_warning_msg=_LOGISTIC_SOLVER_CONVERGENCE_MSG,\n"
     ]
    }
   ],
   "source": [
    "predict(x,y,lr,c)"
   ]
  },
  {
   "cell_type": "code",
   "execution_count": 57,
   "id": "a8309fcb",
   "metadata": {
    "execution": {
     "iopub.execute_input": "2022-12-16T08:19:15.842716Z",
     "iopub.status.busy": "2022-12-16T08:19:15.841934Z",
     "iopub.status.idle": "2022-12-16T08:19:15.847687Z",
     "shell.execute_reply": "2022-12-16T08:19:15.846371Z"
    },
    "papermill": {
     "duration": 0.032328,
     "end_time": "2022-12-16T08:19:15.850457",
     "exception": false,
     "start_time": "2022-12-16T08:19:15.818129",
     "status": "completed"
    },
    "tags": []
   },
   "outputs": [],
   "source": [
    "# use random forest,knl,classification algorithms"
   ]
  },
  {
   "cell_type": "code",
   "execution_count": 58,
   "id": "adaafdb1",
   "metadata": {
    "execution": {
     "iopub.execute_input": "2022-12-16T08:19:15.897257Z",
     "iopub.status.busy": "2022-12-16T08:19:15.896189Z",
     "iopub.status.idle": "2022-12-16T08:19:15.901643Z",
     "shell.execute_reply": "2022-12-16T08:19:15.900706Z"
    },
    "papermill": {
     "duration": 0.031439,
     "end_time": "2022-12-16T08:19:15.903895",
     "exception": false,
     "start_time": "2022-12-16T08:19:15.872456",
     "status": "completed"
    },
    "tags": []
   },
   "outputs": [],
   "source": [
    "# Apply Techniques of handling imbalance data if data is imbalance\n",
    "# doing cross validation using grid search cv and do predictions\n",
    "# checking accuracy of your cross validated model."
   ]
  },
  {
   "cell_type": "code",
   "execution_count": 59,
   "id": "54939538",
   "metadata": {
    "execution": {
     "iopub.execute_input": "2022-12-16T08:19:15.951365Z",
     "iopub.status.busy": "2022-12-16T08:19:15.950695Z",
     "iopub.status.idle": "2022-12-16T08:19:15.963603Z",
     "shell.execute_reply": "2022-12-16T08:19:15.962506Z"
    },
    "papermill": {
     "duration": 0.039733,
     "end_time": "2022-12-16T08:19:15.965989",
     "exception": false,
     "start_time": "2022-12-16T08:19:15.926256",
     "status": "completed"
    },
    "tags": []
   },
   "outputs": [
    {
     "data": {
      "text/plain": [
       "1    443777\n",
       "0     82037\n",
       "Name: Score, dtype: int64"
      ]
     },
     "execution_count": 59,
     "metadata": {},
     "output_type": "execute_result"
    }
   ],
   "source": [
    "y.value_counts()"
   ]
  },
  {
   "cell_type": "code",
   "execution_count": 60,
   "id": "58d3ff35",
   "metadata": {
    "execution": {
     "iopub.execute_input": "2022-12-16T08:19:16.012676Z",
     "iopub.status.busy": "2022-12-16T08:19:16.012265Z",
     "iopub.status.idle": "2022-12-16T08:19:16.016962Z",
     "shell.execute_reply": "2022-12-16T08:19:16.015945Z"
    },
    "papermill": {
     "duration": 0.030963,
     "end_time": "2022-12-16T08:19:16.019437",
     "exception": false,
     "start_time": "2022-12-16T08:19:15.988474",
     "status": "completed"
    },
    "tags": []
   },
   "outputs": [],
   "source": [
    "#random oversample"
   ]
  },
  {
   "cell_type": "code",
   "execution_count": 61,
   "id": "4c86375b",
   "metadata": {
    "execution": {
     "iopub.execute_input": "2022-12-16T08:19:16.065625Z",
     "iopub.status.busy": "2022-12-16T08:19:16.064573Z",
     "iopub.status.idle": "2022-12-16T08:19:16.333495Z",
     "shell.execute_reply": "2022-12-16T08:19:16.332237Z"
    },
    "papermill": {
     "duration": 0.294835,
     "end_time": "2022-12-16T08:19:16.336354",
     "exception": false,
     "start_time": "2022-12-16T08:19:16.041519",
     "status": "completed"
    },
    "tags": []
   },
   "outputs": [],
   "source": [
    "from imblearn.over_sampling import RandomOverSampler"
   ]
  },
  {
   "cell_type": "code",
   "execution_count": 62,
   "id": "16e83002",
   "metadata": {
    "execution": {
     "iopub.execute_input": "2022-12-16T08:19:16.382435Z",
     "iopub.status.busy": "2022-12-16T08:19:16.382022Z",
     "iopub.status.idle": "2022-12-16T08:19:16.789677Z",
     "shell.execute_reply": "2022-12-16T08:19:16.788652Z"
    },
    "papermill": {
     "duration": 0.433398,
     "end_time": "2022-12-16T08:19:16.792258",
     "exception": false,
     "start_time": "2022-12-16T08:19:16.358860",
     "status": "completed"
    },
    "tags": []
   },
   "outputs": [],
   "source": [
    "os= RandomOverSampler()\n",
    "x_train_res,y_train_res= os.fit_resample(x_c,y)"
   ]
  },
  {
   "cell_type": "code",
   "execution_count": 63,
   "id": "8a8cf155",
   "metadata": {
    "execution": {
     "iopub.execute_input": "2022-12-16T08:19:16.837511Z",
     "iopub.status.busy": "2022-12-16T08:19:16.837129Z",
     "iopub.status.idle": "2022-12-16T08:19:16.844114Z",
     "shell.execute_reply": "2022-12-16T08:19:16.842977Z"
    },
    "papermill": {
     "duration": 0.032422,
     "end_time": "2022-12-16T08:19:16.846463",
     "exception": false,
     "start_time": "2022-12-16T08:19:16.814041",
     "status": "completed"
    },
    "tags": []
   },
   "outputs": [
    {
     "data": {
      "text/plain": [
       "(887554, 114969)"
      ]
     },
     "execution_count": 63,
     "metadata": {},
     "output_type": "execute_result"
    }
   ],
   "source": [
    "x_train_res.shape"
   ]
  },
  {
   "cell_type": "code",
   "execution_count": 64,
   "id": "cf8a7ed9",
   "metadata": {
    "execution": {
     "iopub.execute_input": "2022-12-16T08:19:16.892819Z",
     "iopub.status.busy": "2022-12-16T08:19:16.891781Z",
     "iopub.status.idle": "2022-12-16T08:19:16.898959Z",
     "shell.execute_reply": "2022-12-16T08:19:16.897986Z"
    },
    "papermill": {
     "duration": 0.032629,
     "end_time": "2022-12-16T08:19:16.901125",
     "exception": false,
     "start_time": "2022-12-16T08:19:16.868496",
     "status": "completed"
    },
    "tags": []
   },
   "outputs": [
    {
     "data": {
      "text/plain": [
       "(887554,)"
      ]
     },
     "execution_count": 64,
     "metadata": {},
     "output_type": "execute_result"
    }
   ],
   "source": [
    "y_train_res.shape"
   ]
  },
  {
   "cell_type": "code",
   "execution_count": 65,
   "id": "fd1c15e7",
   "metadata": {
    "execution": {
     "iopub.execute_input": "2022-12-16T08:19:16.947300Z",
     "iopub.status.busy": "2022-12-16T08:19:16.946381Z",
     "iopub.status.idle": "2022-12-16T08:19:16.952193Z",
     "shell.execute_reply": "2022-12-16T08:19:16.950886Z"
    },
    "papermill": {
     "duration": 0.03138,
     "end_time": "2022-12-16T08:19:16.954498",
     "exception": false,
     "start_time": "2022-12-16T08:19:16.923118",
     "status": "completed"
    },
    "tags": []
   },
   "outputs": [],
   "source": [
    "# for count of diff diff classes available int our data\n",
    "from collections import Counter "
   ]
  },
  {
   "cell_type": "code",
   "execution_count": 66,
   "id": "6ffc8d56",
   "metadata": {
    "execution": {
     "iopub.execute_input": "2022-12-16T08:19:17.000457Z",
     "iopub.status.busy": "2022-12-16T08:19:17.000046Z",
     "iopub.status.idle": "2022-12-16T08:19:17.194305Z",
     "shell.execute_reply": "2022-12-16T08:19:17.192863Z"
    },
    "papermill": {
     "duration": 0.220337,
     "end_time": "2022-12-16T08:19:17.196853",
     "exception": false,
     "start_time": "2022-12-16T08:19:16.976516",
     "status": "completed"
    },
    "tags": []
   },
   "outputs": [
    {
     "name": "stdout",
     "output_type": "stream",
     "text": [
      "Original datasetCounter({1: 443777, 0: 82037})\n",
      "Original datasetCounter({1: 443777, 0: 443777})\n"
     ]
    }
   ],
   "source": [
    "print(f\"Original dataset{Counter(y)}\")\n",
    "print(f\"Original dataset{Counter(y_train_res)}\")      "
   ]
  },
  {
   "cell_type": "code",
   "execution_count": 67,
   "id": "ea2d5ce9",
   "metadata": {
    "execution": {
     "iopub.execute_input": "2022-12-16T08:19:17.242580Z",
     "iopub.status.busy": "2022-12-16T08:19:17.242192Z",
     "iopub.status.idle": "2022-12-16T08:19:17.247056Z",
     "shell.execute_reply": "2022-12-16T08:19:17.245824Z"
    },
    "papermill": {
     "duration": 0.030613,
     "end_time": "2022-12-16T08:19:17.249387",
     "exception": false,
     "start_time": "2022-12-16T08:19:17.218774",
     "status": "completed"
    },
    "tags": []
   },
   "outputs": [],
   "source": [
    "# doing cross validation now"
   ]
  },
  {
   "cell_type": "code",
   "execution_count": 68,
   "id": "13cf0086",
   "metadata": {
    "execution": {
     "iopub.execute_input": "2022-12-16T08:19:17.295411Z",
     "iopub.status.busy": "2022-12-16T08:19:17.294992Z",
     "iopub.status.idle": "2022-12-16T08:19:17.300256Z",
     "shell.execute_reply": "2022-12-16T08:19:17.299100Z"
    },
    "papermill": {
     "duration": 0.030854,
     "end_time": "2022-12-16T08:19:17.302424",
     "exception": false,
     "start_time": "2022-12-16T08:19:17.271570",
     "status": "completed"
    },
    "tags": []
   },
   "outputs": [],
   "source": [
    "from sklearn.linear_model import LogisticRegression\n",
    "model_class= LogisticRegression()"
   ]
  },
  {
   "cell_type": "code",
   "execution_count": 69,
   "id": "1bbfe991",
   "metadata": {
    "execution": {
     "iopub.execute_input": "2022-12-16T08:19:17.348700Z",
     "iopub.status.busy": "2022-12-16T08:19:17.347745Z",
     "iopub.status.idle": "2022-12-16T08:19:17.355408Z",
     "shell.execute_reply": "2022-12-16T08:19:17.354464Z"
    },
    "papermill": {
     "duration": 0.033039,
     "end_time": "2022-12-16T08:19:17.357499",
     "exception": false,
     "start_time": "2022-12-16T08:19:17.324460",
     "status": "completed"
    },
    "tags": []
   },
   "outputs": [
    {
     "data": {
      "text/plain": [
       "array([-2, -1,  0,  1,  2])"
      ]
     },
     "execution_count": 69,
     "metadata": {},
     "output_type": "execute_result"
    }
   ],
   "source": [
    "np.arange(-2,3)"
   ]
  },
  {
   "cell_type": "code",
   "execution_count": 70,
   "id": "74dde5f3",
   "metadata": {
    "execution": {
     "iopub.execute_input": "2022-12-16T08:19:17.404109Z",
     "iopub.status.busy": "2022-12-16T08:19:17.403697Z",
     "iopub.status.idle": "2022-12-16T08:19:17.409131Z",
     "shell.execute_reply": "2022-12-16T08:19:17.407954Z"
    },
    "papermill": {
     "duration": 0.031572,
     "end_time": "2022-12-16T08:19:17.411259",
     "exception": false,
     "start_time": "2022-12-16T08:19:17.379687",
     "status": "completed"
    },
    "tags": []
   },
   "outputs": [],
   "source": [
    "\n",
    "grid ={'C': 10.0 **np.arange(-2,3),'penalty':['l1','l2']}"
   ]
  },
  {
   "cell_type": "code",
   "execution_count": 71,
   "id": "7dc88556",
   "metadata": {
    "execution": {
     "iopub.execute_input": "2022-12-16T08:19:17.457342Z",
     "iopub.status.busy": "2022-12-16T08:19:17.456933Z",
     "iopub.status.idle": "2022-12-16T08:19:17.461526Z",
     "shell.execute_reply": "2022-12-16T08:19:17.460711Z"
    },
    "papermill": {
     "duration": 0.030352,
     "end_time": "2022-12-16T08:19:17.463808",
     "exception": false,
     "start_time": "2022-12-16T08:19:17.433456",
     "status": "completed"
    },
    "tags": []
   },
   "outputs": [],
   "source": [
    "from sklearn.model_selection import GridSearchCV\n",
    "clf= GridSearchCV(estimator=model_class,param_grid=grid,cv=5,n_jobs=-1,scoring= 'f1_macro')"
   ]
  },
  {
   "cell_type": "code",
   "execution_count": 72,
   "id": "bbab0cfc",
   "metadata": {
    "execution": {
     "iopub.execute_input": "2022-12-16T08:19:17.509955Z",
     "iopub.status.busy": "2022-12-16T08:19:17.509530Z",
     "iopub.status.idle": "2022-12-16T08:23:18.503881Z",
     "shell.execute_reply": "2022-12-16T08:23:18.502531Z"
    },
    "papermill": {
     "duration": 241.059786,
     "end_time": "2022-12-16T08:23:18.545781",
     "exception": false,
     "start_time": "2022-12-16T08:19:17.485995",
     "status": "completed"
    },
    "tags": []
   },
   "outputs": [
    {
     "name": "stderr",
     "output_type": "stream",
     "text": [
      "/opt/conda/lib/python3.7/site-packages/sklearn/model_selection/_validation.py:372: FitFailedWarning: \n",
      "25 fits failed out of a total of 50.\n",
      "The score on these train-test partitions for these parameters will be set to nan.\n",
      "If these failures are not expected, you can try to debug them by setting error_score='raise'.\n",
      "\n",
      "Below are more details about the failures:\n",
      "--------------------------------------------------------------------------------\n",
      "25 fits failed with the following error:\n",
      "Traceback (most recent call last):\n",
      "  File \"/opt/conda/lib/python3.7/site-packages/sklearn/model_selection/_validation.py\", line 680, in _fit_and_score\n",
      "    estimator.fit(X_train, y_train, **fit_params)\n",
      "  File \"/opt/conda/lib/python3.7/site-packages/sklearn/linear_model/_logistic.py\", line 1461, in fit\n",
      "    solver = _check_solver(self.solver, self.penalty, self.dual)\n",
      "  File \"/opt/conda/lib/python3.7/site-packages/sklearn/linear_model/_logistic.py\", line 449, in _check_solver\n",
      "    % (solver, penalty)\n",
      "ValueError: Solver lbfgs supports only 'l2' or 'none' penalties, got l1 penalty.\n",
      "\n",
      "  warnings.warn(some_fits_failed_message, FitFailedWarning)\n",
      "/opt/conda/lib/python3.7/site-packages/sklearn/model_selection/_search.py:972: UserWarning: One or more of the test scores are non-finite: [       nan 0.87435571        nan 0.90056793        nan 0.92056278\n",
      "        nan 0.92629606        nan 0.92716931]\n",
      "  category=UserWarning,\n",
      "/opt/conda/lib/python3.7/site-packages/sklearn/linear_model/_logistic.py:818: ConvergenceWarning: lbfgs failed to converge (status=1):\n",
      "STOP: TOTAL NO. of ITERATIONS REACHED LIMIT.\n",
      "\n",
      "Increase the number of iterations (max_iter) or scale the data as shown in:\n",
      "    https://scikit-learn.org/stable/modules/preprocessing.html\n",
      "Please also refer to the documentation for alternative solver options:\n",
      "    https://scikit-learn.org/stable/modules/linear_model.html#logistic-regression\n",
      "  extra_warning_msg=_LOGISTIC_SOLVER_CONVERGENCE_MSG,\n"
     ]
    },
    {
     "data": {
      "text/plain": [
       "GridSearchCV(cv=5, estimator=LogisticRegression(), n_jobs=-1,\n",
       "             param_grid={'C': array([1.e-02, 1.e-01, 1.e+00, 1.e+01, 1.e+02]),\n",
       "                         'penalty': ['l1', 'l2']},\n",
       "             scoring='f1_macro')"
      ]
     },
     "execution_count": 72,
     "metadata": {},
     "output_type": "execute_result"
    }
   ],
   "source": [
    "clf.fit(x_train_res,y_train_res)"
   ]
  },
  {
   "cell_type": "code",
   "execution_count": 73,
   "id": "3a69c1fd",
   "metadata": {
    "execution": {
     "iopub.execute_input": "2022-12-16T08:23:18.617459Z",
     "iopub.status.busy": "2022-12-16T08:23:18.617065Z",
     "iopub.status.idle": "2022-12-16T08:23:18.781176Z",
     "shell.execute_reply": "2022-12-16T08:23:18.779918Z"
    },
    "papermill": {
     "duration": 0.198069,
     "end_time": "2022-12-16T08:23:18.784022",
     "exception": false,
     "start_time": "2022-12-16T08:23:18.585953",
     "status": "completed"
    },
    "tags": []
   },
   "outputs": [],
   "source": [
    "from sklearn.model_selection import train_test_split\n",
    "x_train,x_test,y_train,y_test=train_test_split(x_c,y)"
   ]
  },
  {
   "cell_type": "code",
   "execution_count": 74,
   "id": "6486d9d7",
   "metadata": {
    "execution": {
     "iopub.execute_input": "2022-12-16T08:23:18.831101Z",
     "iopub.status.busy": "2022-12-16T08:23:18.830659Z",
     "iopub.status.idle": "2022-12-16T08:23:18.850916Z",
     "shell.execute_reply": "2022-12-16T08:23:18.849746Z"
    },
    "papermill": {
     "duration": 0.046825,
     "end_time": "2022-12-16T08:23:18.853432",
     "exception": false,
     "start_time": "2022-12-16T08:23:18.806607",
     "status": "completed"
    },
    "tags": []
   },
   "outputs": [],
   "source": [
    "pred= clf.predict(x_test)"
   ]
  },
  {
   "cell_type": "code",
   "execution_count": 75,
   "id": "ee9a71f2",
   "metadata": {
    "execution": {
     "iopub.execute_input": "2022-12-16T08:23:18.900146Z",
     "iopub.status.busy": "2022-12-16T08:23:18.899255Z",
     "iopub.status.idle": "2022-12-16T08:23:18.933799Z",
     "shell.execute_reply": "2022-12-16T08:23:18.932619Z"
    },
    "papermill": {
     "duration": 0.060631,
     "end_time": "2022-12-16T08:23:18.936344",
     "exception": false,
     "start_time": "2022-12-16T08:23:18.875713",
     "status": "completed"
    },
    "tags": []
   },
   "outputs": [
    {
     "data": {
      "text/plain": [
       "array([[ 19481,   1194],\n",
       "       [  7479, 103300]])"
      ]
     },
     "execution_count": 75,
     "metadata": {},
     "output_type": "execute_result"
    }
   ],
   "source": [
    "from sklearn.metrics import confusion_matrix,accuracy_score\n",
    "confusion_matrix(y_test,pred)"
   ]
  },
  {
   "cell_type": "code",
   "execution_count": 76,
   "id": "f7bc410c",
   "metadata": {
    "execution": {
     "iopub.execute_input": "2022-12-16T08:23:18.983692Z",
     "iopub.status.busy": "2022-12-16T08:23:18.982941Z",
     "iopub.status.idle": "2022-12-16T08:23:19.002604Z",
     "shell.execute_reply": "2022-12-16T08:23:19.001400Z"
    },
    "papermill": {
     "duration": 0.045979,
     "end_time": "2022-12-16T08:23:19.005010",
     "exception": false,
     "start_time": "2022-12-16T08:23:18.959031",
     "status": "completed"
    },
    "tags": []
   },
   "outputs": [
    {
     "data": {
      "text/plain": [
       "0.9340225478114017"
      ]
     },
     "execution_count": 76,
     "metadata": {},
     "output_type": "execute_result"
    }
   ],
   "source": [
    "accuracy_score(y_test,pred)"
   ]
  },
  {
   "cell_type": "code",
   "execution_count": null,
   "id": "5aae174f",
   "metadata": {
    "papermill": {
     "duration": 0.022213,
     "end_time": "2022-12-16T08:23:19.050241",
     "exception": false,
     "start_time": "2022-12-16T08:23:19.028028",
     "status": "completed"
    },
    "tags": []
   },
   "outputs": [],
   "source": []
  }
 ],
 "metadata": {
  "kernelspec": {
   "display_name": "Python 3",
   "language": "python",
   "name": "python3"
  },
  "language_info": {
   "codemirror_mode": {
    "name": "ipython",
    "version": 3
   },
   "file_extension": ".py",
   "mimetype": "text/x-python",
   "name": "python",
   "nbconvert_exporter": "python",
   "pygments_lexer": "ipython3",
   "version": "3.7.12"
  },
  "papermill": {
   "default_parameters": {},
   "duration": 618.899001,
   "end_time": "2022-12-16T08:23:21.694388",
   "environment_variables": {},
   "exception": null,
   "input_path": "__notebook__.ipynb",
   "output_path": "__notebook__.ipynb",
   "parameters": {},
   "start_time": "2022-12-16T08:13:02.795387",
   "version": "2.3.4"
  }
 },
 "nbformat": 4,
 "nbformat_minor": 5
}
